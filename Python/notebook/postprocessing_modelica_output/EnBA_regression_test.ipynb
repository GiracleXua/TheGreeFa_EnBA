{
 "cells": [
  {
   "cell_type": "code",
   "execution_count": 1,
   "id": "clean-madagascar",
   "metadata": {
    "tags": []
   },
   "outputs": [],
   "source": [
    "import os\n",
    "import sys\n",
    "\n",
    "from pathlib import Path\n",
    "\n",
    "import numpy as np\n",
    "import pandas as pd\n",
    "import math\n",
    "from math import exp\n",
    "\n",
    "import scipy\n",
    "from sklearn import linear_model\n",
    "\n",
    "import matplotlib.pyplot as plt\n",
    "import seaborn as sns"
   ]
  },
  {
   "cell_type": "code",
   "execution_count": 2,
   "id": "combined-projection",
   "metadata": {},
   "outputs": [],
   "source": [
    "sys.path.insert(0, os.path.join('.', '..', '..', 'calibration'))"
   ]
  },
  {
   "cell_type": "code",
   "execution_count": 7,
   "id": "acute-account",
   "metadata": {},
   "outputs": [],
   "source": [
    "import thermodynamics\n",
    "from postprocessing import *\n",
    "from CoolProp.HumidAirProp import HAPropsSI"
   ]
  },
  {
   "cell_type": "code",
   "execution_count": 4,
   "id": "intelligent-afghanistan",
   "metadata": {},
   "outputs": [],
   "source": [
    "%load_ext autoreload\n",
    "# only reload the function imported by \"aimport\"\n",
    "%autoreload 1\n",
    "%aimport thermodynamics, postprocessing, plotting, calibration_MgCl2_class"
   ]
  },
  {
   "cell_type": "markdown",
   "id": "still-campbell",
   "metadata": {
    "tags": []
   },
   "source": [
    "## check validity of regression method scipy using Chen's data and input parameter (Re, Pr, etc.) read from Modelica\n",
    "- results: the scipy regression performed well, seems like Chen used this method to generate the equation"
   ]
  },
  {
   "cell_type": "code",
   "execution_count": 5,
   "id": "white-philosophy",
   "metadata": {},
   "outputs": [],
   "source": [
    "obj = EnBA_M_post_processing(\"\",\"\")"
   ]
  },
  {
   "cell_type": "code",
   "execution_count": 10,
   "id": "fifteen-julian",
   "metadata": {},
   "outputs": [
    {
     "name": "stdout",
     "output_type": "stream",
     "text": [
      "number of cooling datapoint is 15 \n",
      "\n",
      "following datasets are excluded from regression: \n",
      " set().\n",
      "no Nu_2 and Sh_2 in dataframe.\n",
      "###### use unsorted calibration data ######\n"
     ]
    }
   ],
   "source": [
    "df_input = obj.generate_regression_input('../table_for_regression/chen_original_data.csv', if_log=False, )"
   ]
  },
  {
   "cell_type": "code",
   "execution_count": 11,
   "id": "interested-capacity",
   "metadata": {},
   "outputs": [
    {
     "data": {
      "text/html": [
       "<div>\n",
       "<style scoped>\n",
       "    .dataframe tbody tr th:only-of-type {\n",
       "        vertical-align: middle;\n",
       "    }\n",
       "\n",
       "    .dataframe tbody tr th {\n",
       "        vertical-align: top;\n",
       "    }\n",
       "\n",
       "    .dataframe thead th {\n",
       "        text-align: right;\n",
       "    }\n",
       "</style>\n",
       "<table border=\"1\" class=\"dataframe\">\n",
       "  <thead>\n",
       "    <tr style=\"text-align: right;\">\n",
       "      <th></th>\n",
       "      <th>T_a_in</th>\n",
       "      <th>x_a_in</th>\n",
       "      <th>m_a_in</th>\n",
       "      <th>T_d_in</th>\n",
       "      <th>xi_d_in</th>\n",
       "      <th>x_d_in_equ</th>\n",
       "      <th>m_d_in</th>\n",
       "      <th>T_a_o_exp</th>\n",
       "      <th>T_d_o_exp</th>\n",
       "      <th>x_a_o_exp</th>\n",
       "      <th>Re</th>\n",
       "      <th>Pr</th>\n",
       "      <th>Sc</th>\n",
       "      <th>Nu</th>\n",
       "      <th>Sh</th>\n",
       "    </tr>\n",
       "  </thead>\n",
       "  <tbody>\n",
       "    <tr>\n",
       "      <th>1</th>\n",
       "      <td>298.75</td>\n",
       "      <td>0.0162</td>\n",
       "      <td>1.85</td>\n",
       "      <td>288.05</td>\n",
       "      <td>0.2300</td>\n",
       "      <td>0.006324</td>\n",
       "      <td>2.61</td>\n",
       "      <td>292.35</td>\n",
       "      <td>294.45</td>\n",
       "      <td>0.0091</td>\n",
       "      <td>987.281738</td>\n",
       "      <td>0.722571</td>\n",
       "      <td>0.655760</td>\n",
       "      <td>3.860095</td>\n",
       "      <td>3.025952</td>\n",
       "    </tr>\n",
       "    <tr>\n",
       "      <th>10</th>\n",
       "      <td>297.15</td>\n",
       "      <td>0.0152</td>\n",
       "      <td>1.94</td>\n",
       "      <td>289.95</td>\n",
       "      <td>0.2961</td>\n",
       "      <td>0.004830</td>\n",
       "      <td>2.82</td>\n",
       "      <td>293.25</td>\n",
       "      <td>296.25</td>\n",
       "      <td>0.0075</td>\n",
       "      <td>1039.711548</td>\n",
       "      <td>0.722219</td>\n",
       "      <td>0.659328</td>\n",
       "      <td>4.838657</td>\n",
       "      <td>3.252444</td>\n",
       "    </tr>\n",
       "    <tr>\n",
       "      <th>11</th>\n",
       "      <td>297.35</td>\n",
       "      <td>0.0160</td>\n",
       "      <td>1.98</td>\n",
       "      <td>290.85</td>\n",
       "      <td>0.3007</td>\n",
       "      <td>0.004961</td>\n",
       "      <td>2.85</td>\n",
       "      <td>294.05</td>\n",
       "      <td>297.05</td>\n",
       "      <td>0.0077</td>\n",
       "      <td>1060.585449</td>\n",
       "      <td>0.722659</td>\n",
       "      <td>0.658880</td>\n",
       "      <td>5.198952</td>\n",
       "      <td>3.377879</td>\n",
       "    </tr>\n",
       "    <tr>\n",
       "      <th>12</th>\n",
       "      <td>298.25</td>\n",
       "      <td>0.0152</td>\n",
       "      <td>1.94</td>\n",
       "      <td>291.25</td>\n",
       "      <td>0.3052</td>\n",
       "      <td>0.004929</td>\n",
       "      <td>2.90</td>\n",
       "      <td>294.45</td>\n",
       "      <td>297.25</td>\n",
       "      <td>0.0075</td>\n",
       "      <td>1036.682617</td>\n",
       "      <td>0.722056</td>\n",
       "      <td>0.656871</td>\n",
       "      <td>4.696949</td>\n",
       "      <td>3.327239</td>\n",
       "    </tr>\n",
       "    <tr>\n",
       "      <th>13</th>\n",
       "      <td>298.35</td>\n",
       "      <td>0.0143</td>\n",
       "      <td>1.95</td>\n",
       "      <td>290.95</td>\n",
       "      <td>0.3182</td>\n",
       "      <td>0.004380</td>\n",
       "      <td>2.85</td>\n",
       "      <td>294.25</td>\n",
       "      <td>297.05</td>\n",
       "      <td>0.0069</td>\n",
       "      <td>1041.750488</td>\n",
       "      <td>0.721513</td>\n",
       "      <td>0.656648</td>\n",
       "      <td>4.911287</td>\n",
       "      <td>3.229478</td>\n",
       "    </tr>\n",
       "  </tbody>\n",
       "</table>\n",
       "</div>"
      ],
      "text/plain": [
       "    T_a_in  x_a_in  m_a_in  T_d_in  xi_d_in  x_d_in_equ  m_d_in  T_a_o_exp  \\\n",
       "1   298.75  0.0162    1.85  288.05   0.2300    0.006324    2.61     292.35   \n",
       "10  297.15  0.0152    1.94  289.95   0.2961    0.004830    2.82     293.25   \n",
       "11  297.35  0.0160    1.98  290.85   0.3007    0.004961    2.85     294.05   \n",
       "12  298.25  0.0152    1.94  291.25   0.3052    0.004929    2.90     294.45   \n",
       "13  298.35  0.0143    1.95  290.95   0.3182    0.004380    2.85     294.25   \n",
       "\n",
       "    T_d_o_exp  x_a_o_exp           Re        Pr        Sc        Nu        Sh  \n",
       "1      294.45     0.0091   987.281738  0.722571  0.655760  3.860095  3.025952  \n",
       "10     296.25     0.0075  1039.711548  0.722219  0.659328  4.838657  3.252444  \n",
       "11     297.05     0.0077  1060.585449  0.722659  0.658880  5.198952  3.377879  \n",
       "12     297.25     0.0075  1036.682617  0.722056  0.656871  4.696949  3.327239  \n",
       "13     297.05     0.0069  1041.750488  0.721513  0.656648  4.911287  3.229478  "
      ]
     },
     "execution_count": 11,
     "metadata": {},
     "output_type": "execute_result"
    }
   ],
   "source": [
    "df_input.head()"
   ]
  },
  {
   "cell_type": "code",
   "execution_count": 16,
   "id": "sunrise-bridal",
   "metadata": {},
   "outputs": [],
   "source": [
    "popt= obj.regr_via_scipy(df=df_input, target='Nu')"
   ]
  },
  {
   "cell_type": "code",
   "execution_count": 54,
   "id": "hindu-feeling",
   "metadata": {},
   "outputs": [
    {
     "data": {
      "text/plain": [
       "array([51.12379578,  1.79360145,  0.33329819, -1.00099958,  0.81979939,\n",
       "        0.38460022])"
      ]
     },
     "execution_count": 54,
     "metadata": {},
     "output_type": "execute_result"
    }
   ],
   "source": [
    "popt"
   ]
  },
  {
   "cell_type": "code",
   "execution_count": 18,
   "id": "chemical-easter",
   "metadata": {},
   "outputs": [],
   "source": [
    "results_from_regr = obj.func_Nu(df_input, *popt)"
   ]
  },
  {
   "cell_type": "code",
   "execution_count": 20,
   "id": "municipal-atlas",
   "metadata": {},
   "outputs": [
    {
     "data": {
      "text/plain": [
       "0.9999999999994523"
      ]
     },
     "execution_count": 20,
     "metadata": {},
     "output_type": "execute_result"
    }
   ],
   "source": [
    "obj.calc_R_squared(data_ref=df_input['Nu'], data_cal=results_from_regr)"
   ]
  },
  {
   "cell_type": "code",
   "execution_count": 22,
   "id": "patient-arnold",
   "metadata": {},
   "outputs": [],
   "source": [
    "popt2 = obj.regr_via_scipy(df=df_input, target='Sh', iter_num=20000)"
   ]
  },
  {
   "cell_type": "code",
   "execution_count": 55,
   "id": "dynamic-tomorrow",
   "metadata": {},
   "outputs": [
    {
     "data": {
      "text/plain": [
       "array([13.16754741,  2.15760117,  0.33330206,  0.52349915, -0.8956009 ,\n",
       "        0.23760046])"
      ]
     },
     "execution_count": 55,
     "metadata": {},
     "output_type": "execute_result"
    }
   ],
   "source": [
    "popt2"
   ]
  },
  {
   "cell_type": "code",
   "execution_count": 24,
   "id": "neural-split",
   "metadata": {},
   "outputs": [],
   "source": [
    "results_from_regr_Sh = obj.func_Sh(df_input, *popt2)"
   ]
  },
  {
   "cell_type": "code",
   "execution_count": 26,
   "id": "hazardous-apache",
   "metadata": {},
   "outputs": [
    {
     "data": {
      "text/plain": [
       "0.999999999996936"
      ]
     },
     "execution_count": 26,
     "metadata": {},
     "output_type": "execute_result"
    }
   ],
   "source": [
    "obj.calc_R_squared(data_ref=df_input['Sh'], data_cal=results_from_regr_Sh)"
   ]
  },
  {
   "cell_type": "code",
   "execution_count": null,
   "id": "thorough-delaware",
   "metadata": {},
   "outputs": [],
   "source": []
  },
  {
   "cell_type": "markdown",
   "id": "powered-fifty",
   "metadata": {
    "tags": []
   },
   "source": [
    "## check if it possible to get a proper formular to reproduce the Nu Sh generated by iteration\n",
    "- result: cannot generate a formula which agrees well with the iterated value, but the R square seems to be in an acceptable range.\n",
    "- sigma didn't contribute much to the result accuracy"
   ]
  },
  {
   "cell_type": "markdown",
   "id": "popular-whale",
   "metadata": {},
   "source": []
  },
  {
   "cell_type": "markdown",
   "id": "focal-buffalo",
   "metadata": {},
   "source": [
    "**prepare data**"
   ]
  },
  {
   "cell_type": "code",
   "execution_count": 32,
   "id": "boring-norman",
   "metadata": {},
   "outputs": [],
   "source": [
    "obj = EnBA_M_post_processing(\"\",\"\")"
   ]
  },
  {
   "cell_type": "code",
   "execution_count": 28,
   "id": "international-struggle",
   "metadata": {},
   "outputs": [],
   "source": [
    "df_ori = pd.read_csv('../table_for_regression/final_output_calib.csv', index_col=0)"
   ]
  },
  {
   "cell_type": "code",
   "execution_count": 29,
   "id": "exceptional-option",
   "metadata": {},
   "outputs": [
    {
     "data": {
      "text/html": [
       "<div>\n",
       "<style scoped>\n",
       "    .dataframe tbody tr th:only-of-type {\n",
       "        vertical-align: middle;\n",
       "    }\n",
       "\n",
       "    .dataframe tbody tr th {\n",
       "        vertical-align: top;\n",
       "    }\n",
       "\n",
       "    .dataframe thead th {\n",
       "        text-align: right;\n",
       "    }\n",
       "</style>\n",
       "<table border=\"1\" class=\"dataframe\">\n",
       "  <thead>\n",
       "    <tr style=\"text-align: right;\">\n",
       "      <th></th>\n",
       "      <th>T_a_in</th>\n",
       "      <th>x_a_in</th>\n",
       "      <th>m_a_in</th>\n",
       "      <th>T_d_in</th>\n",
       "      <th>xi_d_in</th>\n",
       "      <th>m_d_in</th>\n",
       "      <th>T_a_o_exp</th>\n",
       "      <th>x_a_o_exp</th>\n",
       "      <th>T_d_o_exp</th>\n",
       "      <th>xi_d_o_exp</th>\n",
       "      <th>...</th>\n",
       "      <th>T_d_o_sim_new</th>\n",
       "      <th>xi_d_o_sim_new</th>\n",
       "      <th>xi_d_out</th>\n",
       "      <th>x_d_in_equ</th>\n",
       "      <th>Re</th>\n",
       "      <th>Pr</th>\n",
       "      <th>Sc</th>\n",
       "      <th>epsilon_w</th>\n",
       "      <th>epsilon_T</th>\n",
       "      <th>epsilon_h</th>\n",
       "    </tr>\n",
       "  </thead>\n",
       "  <tbody>\n",
       "    <tr>\n",
       "      <th>1</th>\n",
       "      <td>298.75</td>\n",
       "      <td>0.0162</td>\n",
       "      <td>1.85</td>\n",
       "      <td>288.05</td>\n",
       "      <td>0.2300</td>\n",
       "      <td>2.61</td>\n",
       "      <td>292.35</td>\n",
       "      <td>0.0091</td>\n",
       "      <td>294.45</td>\n",
       "      <td>0.2288</td>\n",
       "      <td>...</td>\n",
       "      <td>293.403503</td>\n",
       "      <td>0.228852</td>\n",
       "      <td>0.228848</td>\n",
       "      <td>0.007228</td>\n",
       "      <td>996.698754</td>\n",
       "      <td>0.723822</td>\n",
       "      <td>0.616835</td>\n",
       "      <td>0.791362</td>\n",
       "      <td>0.598131</td>\n",
       "      <td>0.729568</td>\n",
       "    </tr>\n",
       "    <tr>\n",
       "      <th>10</th>\n",
       "      <td>297.15</td>\n",
       "      <td>0.0152</td>\n",
       "      <td>1.94</td>\n",
       "      <td>289.95</td>\n",
       "      <td>0.2961</td>\n",
       "      <td>2.82</td>\n",
       "      <td>293.25</td>\n",
       "      <td>0.0075</td>\n",
       "      <td>296.25</td>\n",
       "      <td>0.2945</td>\n",
       "      <td>...</td>\n",
       "      <td>295.260590</td>\n",
       "      <td>0.294550</td>\n",
       "      <td>0.294540</td>\n",
       "      <td>0.006049</td>\n",
       "      <td>1048.989749</td>\n",
       "      <td>0.722987</td>\n",
       "      <td>0.616519</td>\n",
       "      <td>0.841421</td>\n",
       "      <td>0.541667</td>\n",
       "      <td>0.769997</td>\n",
       "    </tr>\n",
       "    <tr>\n",
       "      <th>11</th>\n",
       "      <td>297.35</td>\n",
       "      <td>0.0160</td>\n",
       "      <td>1.98</td>\n",
       "      <td>290.85</td>\n",
       "      <td>0.3007</td>\n",
       "      <td>2.85</td>\n",
       "      <td>294.05</td>\n",
       "      <td>0.0077</td>\n",
       "      <td>297.05</td>\n",
       "      <td>0.2990</td>\n",
       "      <td>...</td>\n",
       "      <td>297.783600</td>\n",
       "      <td>0.298635</td>\n",
       "      <td>0.298976</td>\n",
       "      <td>0.006254</td>\n",
       "      <td>1070.471776</td>\n",
       "      <td>0.723793</td>\n",
       "      <td>0.616603</td>\n",
       "      <td>0.851667</td>\n",
       "      <td>0.507692</td>\n",
       "      <td>0.779476</td>\n",
       "    </tr>\n",
       "    <tr>\n",
       "      <th>12</th>\n",
       "      <td>298.25</td>\n",
       "      <td>0.0152</td>\n",
       "      <td>1.94</td>\n",
       "      <td>291.25</td>\n",
       "      <td>0.3052</td>\n",
       "      <td>2.90</td>\n",
       "      <td>294.45</td>\n",
       "      <td>0.0075</td>\n",
       "      <td>297.25</td>\n",
       "      <td>0.3036</td>\n",
       "      <td>...</td>\n",
       "      <td>296.483215</td>\n",
       "      <td>0.303637</td>\n",
       "      <td>0.303636</td>\n",
       "      <td>0.006259</td>\n",
       "      <td>1046.027445</td>\n",
       "      <td>0.722846</td>\n",
       "      <td>0.616694</td>\n",
       "      <td>0.861220</td>\n",
       "      <td>0.542857</td>\n",
       "      <td>0.785601</td>\n",
       "    </tr>\n",
       "    <tr>\n",
       "      <th>13</th>\n",
       "      <td>298.35</td>\n",
       "      <td>0.0143</td>\n",
       "      <td>1.95</td>\n",
       "      <td>290.95</td>\n",
       "      <td>0.3182</td>\n",
       "      <td>2.85</td>\n",
       "      <td>294.25</td>\n",
       "      <td>0.0069</td>\n",
       "      <td>297.05</td>\n",
       "      <td>0.3166</td>\n",
       "      <td>...</td>\n",
       "      <td>296.302978</td>\n",
       "      <td>0.316595</td>\n",
       "      <td>0.316597</td>\n",
       "      <td>0.005690</td>\n",
       "      <td>1050.698532</td>\n",
       "      <td>0.721900</td>\n",
       "      <td>0.616654</td>\n",
       "      <td>0.859495</td>\n",
       "      <td>0.554054</td>\n",
       "      <td>0.781746</td>\n",
       "    </tr>\n",
       "  </tbody>\n",
       "</table>\n",
       "<p>5 rows × 33 columns</p>\n",
       "</div>"
      ],
      "text/plain": [
       "    T_a_in  x_a_in  m_a_in  T_d_in  xi_d_in  m_d_in  T_a_o_exp  x_a_o_exp  \\\n",
       "1   298.75  0.0162    1.85  288.05   0.2300    2.61     292.35     0.0091   \n",
       "10  297.15  0.0152    1.94  289.95   0.2961    2.82     293.25     0.0075   \n",
       "11  297.35  0.0160    1.98  290.85   0.3007    2.85     294.05     0.0077   \n",
       "12  298.25  0.0152    1.94  291.25   0.3052    2.90     294.45     0.0075   \n",
       "13  298.35  0.0143    1.95  290.95   0.3182    2.85     294.25     0.0069   \n",
       "\n",
       "    T_d_o_exp  xi_d_o_exp  ...  T_d_o_sim_new  xi_d_o_sim_new  xi_d_out  \\\n",
       "1      294.45      0.2288  ...     293.403503        0.228852  0.228848   \n",
       "10     296.25      0.2945  ...     295.260590        0.294550  0.294540   \n",
       "11     297.05      0.2990  ...     297.783600        0.298635  0.298976   \n",
       "12     297.25      0.3036  ...     296.483215        0.303637  0.303636   \n",
       "13     297.05      0.3166  ...     296.302978        0.316595  0.316597   \n",
       "\n",
       "    x_d_in_equ           Re        Pr        Sc  epsilon_w  epsilon_T  \\\n",
       "1     0.007228   996.698754  0.723822  0.616835   0.791362   0.598131   \n",
       "10    0.006049  1048.989749  0.722987  0.616519   0.841421   0.541667   \n",
       "11    0.006254  1070.471776  0.723793  0.616603   0.851667   0.507692   \n",
       "12    0.006259  1046.027445  0.722846  0.616694   0.861220   0.542857   \n",
       "13    0.005690  1050.698532  0.721900  0.616654   0.859495   0.554054   \n",
       "\n",
       "    epsilon_h  \n",
       "1    0.729568  \n",
       "10   0.769997  \n",
       "11   0.779476  \n",
       "12   0.785601  \n",
       "13   0.781746  \n",
       "\n",
       "[5 rows x 33 columns]"
      ]
     },
     "execution_count": 29,
     "metadata": {},
     "output_type": "execute_result"
    }
   ],
   "source": [
    "df_ori.head()"
   ]
  },
  {
   "cell_type": "code",
   "execution_count": 30,
   "id": "instant-custom",
   "metadata": {},
   "outputs": [],
   "source": [
    "df_selected = df_ori[['T_a_in', 'x_a_in', 'm_a_in', 'T_d_in', \"xi_d_in\", 'x_d_in_equ', 'm_d_in', 'Re', 'Pr', 'Sc', 'Nu_iter', 'Sh_iter']]"
   ]
  },
  {
   "cell_type": "code",
   "execution_count": 31,
   "id": "civilian-nurse",
   "metadata": {},
   "outputs": [
    {
     "data": {
      "text/html": [
       "<div>\n",
       "<style scoped>\n",
       "    .dataframe tbody tr th:only-of-type {\n",
       "        vertical-align: middle;\n",
       "    }\n",
       "\n",
       "    .dataframe tbody tr th {\n",
       "        vertical-align: top;\n",
       "    }\n",
       "\n",
       "    .dataframe thead th {\n",
       "        text-align: right;\n",
       "    }\n",
       "</style>\n",
       "<table border=\"1\" class=\"dataframe\">\n",
       "  <thead>\n",
       "    <tr style=\"text-align: right;\">\n",
       "      <th></th>\n",
       "      <th>T_a_in</th>\n",
       "      <th>x_a_in</th>\n",
       "      <th>m_a_in</th>\n",
       "      <th>T_d_in</th>\n",
       "      <th>xi_d_in</th>\n",
       "      <th>x_d_in_equ</th>\n",
       "      <th>m_d_in</th>\n",
       "      <th>Re</th>\n",
       "      <th>Pr</th>\n",
       "      <th>Sc</th>\n",
       "      <th>Nu</th>\n",
       "      <th>Sh</th>\n",
       "    </tr>\n",
       "  </thead>\n",
       "  <tbody>\n",
       "    <tr>\n",
       "      <th>1</th>\n",
       "      <td>298.75</td>\n",
       "      <td>0.0162</td>\n",
       "      <td>1.85</td>\n",
       "      <td>288.05</td>\n",
       "      <td>0.2300</td>\n",
       "      <td>0.007228</td>\n",
       "      <td>2.61</td>\n",
       "      <td>996.698754</td>\n",
       "      <td>0.723822</td>\n",
       "      <td>0.616835</td>\n",
       "      <td>3.662364</td>\n",
       "      <td>3.251291</td>\n",
       "    </tr>\n",
       "    <tr>\n",
       "      <th>10</th>\n",
       "      <td>297.15</td>\n",
       "      <td>0.0152</td>\n",
       "      <td>1.94</td>\n",
       "      <td>289.95</td>\n",
       "      <td>0.2961</td>\n",
       "      <td>0.006049</td>\n",
       "      <td>2.82</td>\n",
       "      <td>1048.989749</td>\n",
       "      <td>0.722987</td>\n",
       "      <td>0.616519</td>\n",
       "      <td>4.363029</td>\n",
       "      <td>3.334007</td>\n",
       "    </tr>\n",
       "    <tr>\n",
       "      <th>11</th>\n",
       "      <td>297.35</td>\n",
       "      <td>0.0160</td>\n",
       "      <td>1.98</td>\n",
       "      <td>290.85</td>\n",
       "      <td>0.3007</td>\n",
       "      <td>0.006254</td>\n",
       "      <td>2.85</td>\n",
       "      <td>1070.471776</td>\n",
       "      <td>0.723793</td>\n",
       "      <td>0.616603</td>\n",
       "      <td>5.023988</td>\n",
       "      <td>3.700249</td>\n",
       "    </tr>\n",
       "    <tr>\n",
       "      <th>12</th>\n",
       "      <td>298.25</td>\n",
       "      <td>0.0152</td>\n",
       "      <td>1.94</td>\n",
       "      <td>291.25</td>\n",
       "      <td>0.3052</td>\n",
       "      <td>0.006259</td>\n",
       "      <td>2.90</td>\n",
       "      <td>1046.027445</td>\n",
       "      <td>0.722846</td>\n",
       "      <td>0.616694</td>\n",
       "      <td>4.487529</td>\n",
       "      <td>3.472546</td>\n",
       "    </tr>\n",
       "    <tr>\n",
       "      <th>13</th>\n",
       "      <td>298.35</td>\n",
       "      <td>0.0143</td>\n",
       "      <td>1.95</td>\n",
       "      <td>290.95</td>\n",
       "      <td>0.3182</td>\n",
       "      <td>0.005690</td>\n",
       "      <td>2.85</td>\n",
       "      <td>1050.698532</td>\n",
       "      <td>0.721900</td>\n",
       "      <td>0.616654</td>\n",
       "      <td>4.655537</td>\n",
       "      <td>3.399286</td>\n",
       "    </tr>\n",
       "  </tbody>\n",
       "</table>\n",
       "</div>"
      ],
      "text/plain": [
       "    T_a_in  x_a_in  m_a_in  T_d_in  xi_d_in  x_d_in_equ  m_d_in           Re  \\\n",
       "1   298.75  0.0162    1.85  288.05   0.2300    0.007228    2.61   996.698754   \n",
       "10  297.15  0.0152    1.94  289.95   0.2961    0.006049    2.82  1048.989749   \n",
       "11  297.35  0.0160    1.98  290.85   0.3007    0.006254    2.85  1070.471776   \n",
       "12  298.25  0.0152    1.94  291.25   0.3052    0.006259    2.90  1046.027445   \n",
       "13  298.35  0.0143    1.95  290.95   0.3182    0.005690    2.85  1050.698532   \n",
       "\n",
       "          Pr        Sc        Nu        Sh  \n",
       "1   0.723822  0.616835  3.662364  3.251291  \n",
       "10  0.722987  0.616519  4.363029  3.334007  \n",
       "11  0.723793  0.616603  5.023988  3.700249  \n",
       "12  0.722846  0.616694  4.487529  3.472546  \n",
       "13  0.721900  0.616654  4.655537  3.399286  "
      ]
     },
     "execution_count": 31,
     "metadata": {},
     "output_type": "execute_result"
    }
   ],
   "source": [
    "dict_rename = {'Nu_iter':'Nu',\n",
    "              'Sh_iter':'Sh',}\n",
    "df_selected = df_selected.rename(columns = dict_rename)\n",
    "df_selected.head()"
   ]
  },
  {
   "cell_type": "code",
   "execution_count": 64,
   "id": "major-driver",
   "metadata": {},
   "outputs": [],
   "source": [
    "# df_selected.to_csv('cleaned_calib.csv')"
   ]
  },
  {
   "cell_type": "markdown",
   "id": "preceding-power",
   "metadata": {},
   "source": [
    "#### **regression**"
   ]
  },
  {
   "cell_type": "code",
   "execution_count": 33,
   "id": "informed-nursing",
   "metadata": {},
   "outputs": [
    {
     "name": "stdout",
     "output_type": "stream",
     "text": [
      "number of cooling datapoint is 15 \n",
      "\n",
      "following datasets are excluded from regression: \n",
      " set().\n",
      "no Nu_2 and Sh_2 in dataframe.\n",
      "###### use unsorted calibration data ######\n"
     ]
    }
   ],
   "source": [
    "df_input = obj.generate_regression_input('../table_for_regression/cleaned_calib.csv', if_log=False, )"
   ]
  },
  {
   "cell_type": "code",
   "execution_count": 34,
   "id": "essential-nothing",
   "metadata": {},
   "outputs": [
    {
     "data": {
      "text/html": [
       "<div>\n",
       "<style scoped>\n",
       "    .dataframe tbody tr th:only-of-type {\n",
       "        vertical-align: middle;\n",
       "    }\n",
       "\n",
       "    .dataframe tbody tr th {\n",
       "        vertical-align: top;\n",
       "    }\n",
       "\n",
       "    .dataframe thead th {\n",
       "        text-align: right;\n",
       "    }\n",
       "</style>\n",
       "<table border=\"1\" class=\"dataframe\">\n",
       "  <thead>\n",
       "    <tr style=\"text-align: right;\">\n",
       "      <th></th>\n",
       "      <th>T_a_in</th>\n",
       "      <th>x_a_in</th>\n",
       "      <th>m_a_in</th>\n",
       "      <th>T_d_in</th>\n",
       "      <th>xi_d_in</th>\n",
       "      <th>x_d_in_equ</th>\n",
       "      <th>m_d_in</th>\n",
       "      <th>T_a_o_exp</th>\n",
       "      <th>T_d_o_exp</th>\n",
       "      <th>x_a_o_exp</th>\n",
       "      <th>Re</th>\n",
       "      <th>Pr</th>\n",
       "      <th>Sc</th>\n",
       "      <th>Nu</th>\n",
       "      <th>Sh</th>\n",
       "    </tr>\n",
       "  </thead>\n",
       "  <tbody>\n",
       "    <tr>\n",
       "      <th>1</th>\n",
       "      <td>298.75</td>\n",
       "      <td>0.0162</td>\n",
       "      <td>1.85</td>\n",
       "      <td>288.05</td>\n",
       "      <td>0.2300</td>\n",
       "      <td>0.007228</td>\n",
       "      <td>2.61</td>\n",
       "      <td>292.35</td>\n",
       "      <td>294.45</td>\n",
       "      <td>0.0091</td>\n",
       "      <td>996.698754</td>\n",
       "      <td>0.723822</td>\n",
       "      <td>0.616835</td>\n",
       "      <td>3.662364</td>\n",
       "      <td>3.251291</td>\n",
       "    </tr>\n",
       "    <tr>\n",
       "      <th>10</th>\n",
       "      <td>297.15</td>\n",
       "      <td>0.0152</td>\n",
       "      <td>1.94</td>\n",
       "      <td>289.95</td>\n",
       "      <td>0.2961</td>\n",
       "      <td>0.006049</td>\n",
       "      <td>2.82</td>\n",
       "      <td>293.25</td>\n",
       "      <td>296.25</td>\n",
       "      <td>0.0075</td>\n",
       "      <td>1048.989749</td>\n",
       "      <td>0.722987</td>\n",
       "      <td>0.616519</td>\n",
       "      <td>4.363029</td>\n",
       "      <td>3.334007</td>\n",
       "    </tr>\n",
       "    <tr>\n",
       "      <th>11</th>\n",
       "      <td>297.35</td>\n",
       "      <td>0.0160</td>\n",
       "      <td>1.98</td>\n",
       "      <td>290.85</td>\n",
       "      <td>0.3007</td>\n",
       "      <td>0.006254</td>\n",
       "      <td>2.85</td>\n",
       "      <td>294.05</td>\n",
       "      <td>297.05</td>\n",
       "      <td>0.0077</td>\n",
       "      <td>1070.471776</td>\n",
       "      <td>0.723793</td>\n",
       "      <td>0.616603</td>\n",
       "      <td>5.023988</td>\n",
       "      <td>3.700249</td>\n",
       "    </tr>\n",
       "    <tr>\n",
       "      <th>12</th>\n",
       "      <td>298.25</td>\n",
       "      <td>0.0152</td>\n",
       "      <td>1.94</td>\n",
       "      <td>291.25</td>\n",
       "      <td>0.3052</td>\n",
       "      <td>0.006259</td>\n",
       "      <td>2.90</td>\n",
       "      <td>294.45</td>\n",
       "      <td>297.25</td>\n",
       "      <td>0.0075</td>\n",
       "      <td>1046.027445</td>\n",
       "      <td>0.722846</td>\n",
       "      <td>0.616694</td>\n",
       "      <td>4.487529</td>\n",
       "      <td>3.472546</td>\n",
       "    </tr>\n",
       "    <tr>\n",
       "      <th>13</th>\n",
       "      <td>298.35</td>\n",
       "      <td>0.0143</td>\n",
       "      <td>1.95</td>\n",
       "      <td>290.95</td>\n",
       "      <td>0.3182</td>\n",
       "      <td>0.005690</td>\n",
       "      <td>2.85</td>\n",
       "      <td>294.25</td>\n",
       "      <td>297.05</td>\n",
       "      <td>0.0069</td>\n",
       "      <td>1050.698532</td>\n",
       "      <td>0.721900</td>\n",
       "      <td>0.616654</td>\n",
       "      <td>4.655537</td>\n",
       "      <td>3.399286</td>\n",
       "    </tr>\n",
       "  </tbody>\n",
       "</table>\n",
       "</div>"
      ],
      "text/plain": [
       "    T_a_in  x_a_in  m_a_in  T_d_in  xi_d_in  x_d_in_equ  m_d_in  T_a_o_exp  \\\n",
       "1   298.75  0.0162    1.85  288.05   0.2300    0.007228    2.61     292.35   \n",
       "10  297.15  0.0152    1.94  289.95   0.2961    0.006049    2.82     293.25   \n",
       "11  297.35  0.0160    1.98  290.85   0.3007    0.006254    2.85     294.05   \n",
       "12  298.25  0.0152    1.94  291.25   0.3052    0.006259    2.90     294.45   \n",
       "13  298.35  0.0143    1.95  290.95   0.3182    0.005690    2.85     294.25   \n",
       "\n",
       "    T_d_o_exp  x_a_o_exp           Re        Pr        Sc        Nu        Sh  \n",
       "1      294.45     0.0091   996.698754  0.723822  0.616835  3.662364  3.251291  \n",
       "10     296.25     0.0075  1048.989749  0.722987  0.616519  4.363029  3.334007  \n",
       "11     297.05     0.0077  1070.471776  0.723793  0.616603  5.023988  3.700249  \n",
       "12     297.25     0.0075  1046.027445  0.722846  0.616694  4.487529  3.472546  \n",
       "13     297.05     0.0069  1050.698532  0.721900  0.616654  4.655537  3.399286  "
      ]
     },
     "execution_count": 34,
     "metadata": {},
     "output_type": "execute_result"
    }
   ],
   "source": [
    "df_input.head()"
   ]
  },
  {
   "cell_type": "markdown",
   "id": "suitable-shift",
   "metadata": {},
   "source": [
    "**Nu**"
   ]
  },
  {
   "cell_type": "code",
   "execution_count": 37,
   "id": "institutional-timer",
   "metadata": {},
   "outputs": [],
   "source": [
    "# without considering uncertainty\n",
    "popt_Nu0 = obj.regr_via_scipy(df=df_input, target='Nu', sigma_ratio=None, abs_sigma=True, iter_num=20000, method='lm')"
   ]
  },
  {
   "cell_type": "code",
   "execution_count": 38,
   "id": "attractive-retrieval",
   "metadata": {},
   "outputs": [
    {
     "data": {
      "text/plain": [
       "array([ 8.22184219e-03, -2.70145023e-02, -2.53090348e+01, -2.26669746e+00,\n",
       "        1.54496894e+00,  7.70895418e-01])"
      ]
     },
     "execution_count": 38,
     "metadata": {},
     "output_type": "execute_result"
    }
   ],
   "source": [
    "popt_Nu0"
   ]
  },
  {
   "cell_type": "code",
   "execution_count": 40,
   "id": "meaning-balance",
   "metadata": {},
   "outputs": [
    {
     "data": {
      "text/plain": [
       "0.8953210566682792"
      ]
     },
     "execution_count": 40,
     "metadata": {},
     "output_type": "execute_result"
    }
   ],
   "source": [
    "results_from_regr_Nu0 = obj.func_Nu(df_input, *popt_Nu0)\n",
    "obj.calc_R_squared(data_ref=df_input['Nu'], data_cal=results_from_regr_Nu0)"
   ]
  },
  {
   "cell_type": "code",
   "execution_count": 42,
   "id": "indonesian-detroit",
   "metadata": {},
   "outputs": [],
   "source": [
    "# with considering uncertainty\n",
    "popt_Nu1 = obj.regr_via_scipy(df=df_input, target='Nu', sigma_ratio=0.2, abs_sigma=True, iter_num=20000, method='lm')"
   ]
  },
  {
   "cell_type": "code",
   "execution_count": 43,
   "id": "practical-opportunity",
   "metadata": {},
   "outputs": [
    {
     "data": {
      "text/plain": [
       "array([ 3.63188299e-03, -1.98779143e-01, -2.77892903e+01, -2.47621235e+00,\n",
       "        1.61056350e+00,  8.05956340e-01])"
      ]
     },
     "execution_count": 43,
     "metadata": {},
     "output_type": "execute_result"
    }
   ],
   "source": [
    "popt_Nu1"
   ]
  },
  {
   "cell_type": "code",
   "execution_count": 45,
   "id": "wrong-channels",
   "metadata": {},
   "outputs": [
    {
     "data": {
      "text/plain": [
       "0.8939304819055519"
      ]
     },
     "execution_count": 45,
     "metadata": {},
     "output_type": "execute_result"
    }
   ],
   "source": [
    "results_from_regr_Nu1 = obj.func_Nu(df_input, *popt_Nu1)\n",
    "obj.calc_R_squared(data_ref=df_input['Nu'], data_cal=results_from_regr_Nu1)"
   ]
  },
  {
   "cell_type": "code",
   "execution_count": 51,
   "id": "adolescent-hacker",
   "metadata": {},
   "outputs": [],
   "source": [
    "df_input['Nu_0'] = results_from_regr_Nu0\n",
    "df_input['Nu_1'] = results_from_regr_Nu1"
   ]
  },
  {
   "cell_type": "markdown",
   "id": "unauthorized-draft",
   "metadata": {},
   "source": [
    "**Sh**"
   ]
  },
  {
   "cell_type": "code",
   "execution_count": 46,
   "id": "bored-influence",
   "metadata": {},
   "outputs": [
    {
     "data": {
      "text/plain": [
       "0.5651517258398246"
      ]
     },
     "execution_count": 46,
     "metadata": {},
     "output_type": "execute_result"
    }
   ],
   "source": [
    "# without uncertainty\n",
    "popt_Sh0 = obj.regr_via_scipy(df=df_input, target='Sh', sigma_ratio=None, abs_sigma=True, iter_num=20000)\n",
    "results_from_regr_Sh0 = obj.func_Sh(df_input, *popt_Sh0)\n",
    "obj.calc_R_squared(data_ref=df_input['Sh'], data_cal=results_from_regr_Sh0)"
   ]
  },
  {
   "cell_type": "code",
   "execution_count": 48,
   "id": "worldwide-granny",
   "metadata": {},
   "outputs": [
    {
     "data": {
      "text/plain": [
       "0.5475416164281974"
      ]
     },
     "execution_count": 48,
     "metadata": {},
     "output_type": "execute_result"
    }
   ],
   "source": [
    "# with uncertainty = 0.2 Sh\n",
    "popt_Sh1 = obj.regr_via_scipy(df=df_input, target='Sh', sigma_ratio=0.2, abs_sigma=True, iter_num=20000)\n",
    "results_from_regr_Sh1 = obj.func_Sh(df_input, *popt_Sh1)\n",
    "obj.calc_R_squared(data_ref=df_input['Sh'], data_cal=results_from_regr_Sh1)"
   ]
  },
  {
   "cell_type": "code",
   "execution_count": 49,
   "id": "variable-guest",
   "metadata": {},
   "outputs": [],
   "source": [
    "df_input['Sh_0'] = results_from_regr_Sh0\n",
    "df_input['Sh_1'] = results_from_regr_Sh1"
   ]
  },
  {
   "cell_type": "code",
   "execution_count": 46,
   "id": "silent-senate",
   "metadata": {},
   "outputs": [],
   "source": [
    "# df_input.to_csv('regression_chen.csv')"
   ]
  },
  {
   "cell_type": "code",
   "execution_count": 52,
   "id": "another-bulgaria",
   "metadata": {},
   "outputs": [
    {
     "data": {
      "text/plain": [
       "[<matplotlib.lines.Line2D at 0x23afba7c310>]"
      ]
     },
     "execution_count": 52,
     "metadata": {},
     "output_type": "execute_result"
    },
    {
     "data": {
      "image/png": "[encoded data removed]",
      "text/plain": [
       "<Figure size 720x432 with 1 Axes>"
      ]
     },
     "metadata": {
      "needs_background": "light"
     },
     "output_type": "display_data"
    }
   ],
   "source": [
    "# error bar plot of Nu\n",
    "fig, ax = plt.subplots(figsize = (10,6))\n",
    "\n",
    "ax.errorbar(df_input.reset_index().index, df_input.reset_index()['Nu'], df_input.reset_index()['Nu']*0.2, fmt = 'o')\n",
    "ax.plot(df_input.reset_index().index, df_input.reset_index()['Nu_0'], marker = 'X')\n",
    "ax.plot(df_input.reset_index().index, df_input.reset_index()['Nu_1'], marker = '>')"
   ]
  },
  {
   "cell_type": "code",
   "execution_count": 53,
   "id": "sunset-submission",
   "metadata": {},
   "outputs": [
    {
     "data": {
      "text/plain": [
       "[<matplotlib.lines.Line2D at 0x23afc2ac340>]"
      ]
     },
     "execution_count": 53,
     "metadata": {},
     "output_type": "execute_result"
    },
    {
     "data": {
      "image/png": "[encoded data removed]",
      "text/plain": [
       "<Figure size 720x432 with 1 Axes>"
      ]
     },
     "metadata": {
      "needs_background": "light"
     },
     "output_type": "display_data"
    }
   ],
   "source": [
    "# error bar plot of Sh\n",
    "fig, ax = plt.subplots(figsize = (10,6))\n",
    "\n",
    "ax.errorbar(df_input.reset_index().index, df_input.reset_index()['Sh'], df_input.reset_index()['Sh']*0.2, fmt = 'o')\n",
    "ax.plot(df_input.reset_index().index, df_input.reset_index()['Sh_0'], marker = 'X', markersize = 10)\n",
    "ax.plot(df_input.reset_index().index, df_input.reset_index()['Sh_1'], marker = '>')"
   ]
  },
  {
   "cell_type": "code",
   "execution_count": null,
   "id": "sapphire-comedy",
   "metadata": {},
   "outputs": [],
   "source": []
  }
 ],
 "metadata": {
  "kernelspec": {
   "display_name": "Python 3",
   "language": "python",
   "name": "python3"
  },
  "language_info": {
   "codemirror_mode": {
    "name": "ipython",
    "version": 3
   },
   "file_extension": ".py",
   "mimetype": "text/x-python",
   "name": "python",
   "nbconvert_exporter": "python",
   "pygments_lexer": "ipython3",
   "version": "3.8.8"
  }
 },
 "nbformat": 4,
 "nbformat_minor": 5
}
