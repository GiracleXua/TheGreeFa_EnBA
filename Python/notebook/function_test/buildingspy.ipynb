{
 "cells": [
  {
   "cell_type": "code",
   "execution_count": 1,
   "id": "opposite-surprise",
   "metadata": {},
   "outputs": [],
   "source": [
    "import os\n",
    "from pathlib import Path\n",
    "\n",
    "# mathematics\n",
    "import numpy as np\n",
    "import pandas as pd\n",
    "import math\n",
    "from math import exp\n",
    "\n",
    "# tools\n",
    "import matplotlib.pyplot as plt\n",
    "from multiprocessing import Pool\n",
    "import time\n",
    "\n",
    "# modelica interface\n",
    "import buildingspy.simulate.Simulator as si\n",
    "import buildingspy.io.outputfile as buipy_io"
   ]
  },
  {
   "cell_type": "code",
   "execution_count": 6,
   "id": "posted-rochester",
   "metadata": {},
   "outputs": [],
   "source": [
    "def readResults(path, mat_name):\n",
    "    res = buipy_io.Reader(path + \"/{}.mat\".format(mat_name), \"dymola\")\n",
    "    return res"
   ]
  },
  {
   "cell_type": "code",
   "execution_count": 8,
   "id": "adopted-macro",
   "metadata": {},
   "outputs": [],
   "source": [
    "results = readResults(path = '.', mat_name='Calibration_Chen_2016')"
   ]
  },
  {
   "cell_type": "code",
   "execution_count": 15,
   "id": "intimate-muscle",
   "metadata": {},
   "outputs": [
    {
     "data": {
      "text/plain": [
       "4.397344"
      ]
     },
     "execution_count": 15,
     "metadata": {},
     "output_type": "execute_result"
    }
   ],
   "source": [
    "results.values('abs.thermal_air[1, 1].Nu0')[1][-1]"
   ]
  }
 ],
 "metadata": {
  "kernelspec": {
   "display_name": "Python 3",
   "language": "python",
   "name": "python3"
  },
  "language_info": {
   "codemirror_mode": {
    "name": "ipython",
    "version": 3
   },
   "file_extension": ".py",
   "mimetype": "text/x-python",
   "name": "python",
   "nbconvert_exporter": "python",
   "pygments_lexer": "ipython3",
   "version": "3.8.8"
  }
 },
 "nbformat": 4,
 "nbformat_minor": 5
}
