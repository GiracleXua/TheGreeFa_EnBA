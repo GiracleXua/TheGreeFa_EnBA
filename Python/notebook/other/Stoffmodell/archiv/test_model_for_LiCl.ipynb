{
 "cells": [
  {
   "cell_type": "code",
   "execution_count": 1,
   "metadata": {},
   "outputs": [],
   "source": [
    "import scipy.integrate as intg\n",
    "import scipy.interpolate as inp\n",
    "from scipy.misc import derivative\n",
    "\n",
    "import matplotlib.pyplot as plt\n",
    "import pandas as pd\n",
    "import numpy as np\n",
    "from numpy.polynomial.polynomial import polyval"
   ]
  },
  {
   "cell_type": "code",
   "execution_count": 2,
   "metadata": {},
   "outputs": [],
   "source": [
    "import math\n",
    "from CoolProp.CoolProp import PropsSI"
   ]
  },
  {
   "cell_type": "code",
   "execution_count": null,
   "metadata": {},
   "outputs": [],
   "source": []
  },
  {
   "cell_type": "code",
   "execution_count": 3,
   "metadata": {},
   "outputs": [],
   "source": [
    "def molal_to_massfr(m):\n",
    "    M_LiCl = 42.394   \n",
    "    x = m*M_LiCl/1000 / (m*M_LiCl/1000 + 1 )\n",
    "    return x"
   ]
  },
  {
   "cell_type": "code",
   "execution_count": 4,
   "metadata": {},
   "outputs": [],
   "source": [
    "def massfr_to_molal(x):\n",
    "    M_LiCl = 42.394\n",
    "    m = x/(M_LiCl/1000) / (1-x)\n",
    "    return m"
   ]
  },
  {
   "cell_type": "code",
   "execution_count": 5,
   "metadata": {},
   "outputs": [],
   "source": [
    "# relative mean square root error\n",
    "def RMSRE(ref, sim):\n",
    "    ref, sim = np.array(ref), np.array(sim)\n",
    "    result = np.sqrt((((ref - sim)/ref) ** 2).mean())\n",
    "    return result"
   ]
  },
  {
   "cell_type": "code",
   "execution_count": null,
   "metadata": {},
   "outputs": [],
   "source": []
  },
  {
   "cell_type": "code",
   "execution_count": null,
   "metadata": {},
   "outputs": [],
   "source": []
  },
  {
   "cell_type": "markdown",
   "metadata": {},
   "source": [
    "## **thermodynamics**"
   ]
  },
  {
   "cell_type": "markdown",
   "metadata": {},
   "source": [
    "### C_p"
   ]
  },
  {
   "cell_type": "code",
   "execution_count": null,
   "metadata": {},
   "outputs": [],
   "source": []
  },
  {
   "cell_type": "markdown",
   "metadata": {},
   "source": [
    "## h"
   ]
  },
  {
   "cell_type": "markdown",
   "metadata": {},
   "source": [
    "### reference enthalpy @ 25°C"
   ]
  },
  {
   "cell_type": "code",
   "execution_count": 6,
   "metadata": {},
   "outputs": [],
   "source": [
    "param_ramh = [-0.29955, -1.408417, 0.97913, -0.35007, 0.036087]"
   ]
  },
  {
   "cell_type": "code",
   "execution_count": 71,
   "metadata": {},
   "outputs": [],
   "source": [
    "ramh = lambda m: param_ramh[0]*m**0.5 + param_ramh[1]*m**1 + param_ramh[2]*m**1.5 + param_ramh[3]*m**2 + param_ramh[4]*m**2.5"
   ]
  },
  {
   "cell_type": "code",
   "execution_count": 81,
   "metadata": {},
   "outputs": [
    {
     "data": {
      "text/plain": [
       "-1.04282"
      ]
     },
     "execution_count": 81,
     "metadata": {},
     "output_type": "execute_result"
    }
   ],
   "source": [
    "ramh(1)"
   ]
  },
  {
   "cell_type": "code",
   "execution_count": 79,
   "metadata": {},
   "outputs": [
    {
     "data": {
      "text/plain": [
       "23.5882436193801"
      ]
     },
     "execution_count": 79,
     "metadata": {},
     "output_type": "execute_result"
    }
   ],
   "source": []
  },
  {
   "cell_type": "code",
   "execution_count": 72,
   "metadata": {},
   "outputs": [],
   "source": [
    "rel_h = lambda m: ramh(m)*m # unit kJ/kg_water"
   ]
  },
  {
   "cell_type": "code",
   "execution_count": 73,
   "metadata": {},
   "outputs": [
    {
     "data": {
      "text/plain": [
       "-0.06828548781976107"
      ]
     },
     "execution_count": 73,
     "metadata": {},
     "output_type": "execute_result"
    }
   ],
   "source": [
    "rel_h(0.2)"
   ]
  },
  {
   "cell_type": "code",
   "execution_count": 74,
   "metadata": {},
   "outputs": [
    {
     "data": {
      "text/plain": [
       "[<matplotlib.lines.Line2D at 0x153ba466fc8>]"
      ]
     },
     "execution_count": 74,
     "metadata": {},
     "output_type": "execute_result"
    },
    {
     "data": {
      "image/png": "[encoded data removed]",
      "text/plain": [
       "<Figure size 432x288 with 1 Axes>"
      ]
     },
     "metadata": {
      "needs_background": "light"
     },
     "output_type": "display_data"
    }
   ],
   "source": [
    "x_test = np.linspace(0, 0.5, num = 50, endpoint = True)\n",
    "rel_h_test = [rel_h(massfr_to_molal(i)) for i in x_test]\n",
    "plt.plot(x_test, rel_h_test)"
   ]
  },
  {
   "cell_type": "code",
   "execution_count": 44,
   "metadata": {},
   "outputs": [
    {
     "data": {
      "text/plain": [
       "-36.938999999999965"
      ]
     },
     "execution_count": 44,
     "metadata": {},
     "output_type": "execute_result"
    }
   ],
   "source": [
    "delta_solution_unlimited = -445.64--408.701\n",
    "delta_solution_unlimited\n",
    "# find from NBS table!!!"
   ]
  },
  {
   "cell_type": "code",
   "execution_count": 45,
   "metadata": {},
   "outputs": [],
   "source": [
    "h_water = lambda T: PropsSI('H','T',T,'Q',0, 'IF97::Water')/1000 #kJ/kg"
   ]
  },
  {
   "cell_type": "code",
   "execution_count": 46,
   "metadata": {},
   "outputs": [],
   "source": [
    "h_0_ref_25 = lambda m: delta_solution_unlimited * m + h_water(298.15) # kJ/kg_h2o ... input mol/kg"
   ]
  },
  {
   "cell_type": "code",
   "execution_count": 47,
   "metadata": {},
   "outputs": [],
   "source": [
    "h_at_25_mol = lambda m: (h_0_ref_25(m) + rel_h(m))/(1+42.394/1000*m) # unit kJ/kg # # kJ/kg_mgcl2_aq ... input mol/kg"
   ]
  },
  {
   "cell_type": "code",
   "execution_count": 48,
   "metadata": {},
   "outputs": [],
   "source": [
    "h_at_25_mass_frac = lambda x: h_at_25_mol(massfr_to_molal(x)) # unit kJ/kg"
   ]
  },
  {
   "cell_type": "code",
   "execution_count": 49,
   "metadata": {},
   "outputs": [
    {
     "data": {
      "text/plain": [
       "104.83838586274732"
      ]
     },
     "execution_count": 49,
     "metadata": {},
     "output_type": "execute_result"
    }
   ],
   "source": [
    "h_at_25_mass_frac(0)"
   ]
  },
  {
   "cell_type": "code",
   "execution_count": 70,
   "metadata": {},
   "outputs": [
    {
     "data": {
      "text/plain": [
       "[<matplotlib.lines.Line2D at 0x153b9bc4508>]"
      ]
     },
     "execution_count": 70,
     "metadata": {},
     "output_type": "execute_result"
    },
    {
     "data": {
      "image/png": "[encoded data removed]",
      "text/plain": [
       "<Figure size 432x288 with 1 Axes>"
      ]
     },
     "metadata": {
      "needs_background": "light"
     },
     "output_type": "display_data"
    }
   ],
   "source": [
    "x_test = np.linspace(0, 0.5, num = 50, endpoint = True)\n",
    "h_at_25_test = [h_at_25_mass_frac(i) for i in x_test]\n",
    "plt.plot(x_test, h_at_25_test)"
   ]
  },
  {
   "cell_type": "markdown",
   "metadata": {},
   "source": [
    "### $c_p$"
   ]
  },
  {
   "cell_type": "code",
   "execution_count": 51,
   "metadata": {},
   "outputs": [],
   "source": [
    "param_cp = [1.4390, -1.24317, -0.12070, 0.12825, 0.62934, 58.5225, -105.6343, 47.7948]"
   ]
  },
  {
   "cell_type": "code",
   "execution_count": 52,
   "metadata": {},
   "outputs": [],
   "source": [
    "f_1 = lambda x: (param_cp[0]*x + param_cp[1]*x**2 + param_cp[2] * x**3) if x <=0.31 else (param_cp[3] + param_cp[4]*x)"
   ]
  },
  {
   "cell_type": "code",
   "execution_count": 53,
   "metadata": {},
   "outputs": [
    {
     "data": {
      "text/plain": [
       "0.3296388"
      ]
     },
     "execution_count": 53,
     "metadata": {},
     "output_type": "execute_result"
    }
   ],
   "source": [
    "f_1(0.32)"
   ]
  },
  {
   "cell_type": "code",
   "execution_count": 54,
   "metadata": {},
   "outputs": [],
   "source": [
    "f_2 = lambda T: param_cp[5]*(T/228-1)**0.02 + param_cp[6]*(T/228-1)**0.04 + param_cp[7]*(T/228-1)**0.06 "
   ]
  },
  {
   "cell_type": "code",
   "execution_count": 55,
   "metadata": {},
   "outputs": [],
   "source": [
    "# water\n",
    "para_wa = [88.7891, -120.1958, -16.9264, 52.4654, 0.10826, 0.46988]\n",
    "cp_w = lambda theta: para_wa[0] + para_wa[1]*theta**0.02 + para_wa[2]*theta**0.04 + para_wa[3]*theta**0.06 + para_wa[4]*theta**1.8 + para_wa[5]*theta**8"
   ]
  },
  {
   "cell_type": "code",
   "execution_count": 56,
   "metadata": {},
   "outputs": [],
   "source": [
    "cp = lambda T,x: cp_w(T/228-1)*(1-f_1(x)*f_2(T))"
   ]
  },
  {
   "cell_type": "code",
   "execution_count": 63,
   "metadata": {},
   "outputs": [
    {
     "data": {
      "text/plain": [
       "3.2217797403503843"
      ]
     },
     "execution_count": 63,
     "metadata": {},
     "output_type": "execute_result"
    }
   ],
   "source": [
    "cp(292, 0.2)"
   ]
  },
  {
   "cell_type": "code",
   "execution_count": null,
   "metadata": {},
   "outputs": [],
   "source": []
  },
  {
   "cell_type": "code",
   "execution_count": 64,
   "metadata": {},
   "outputs": [],
   "source": [
    "# simplified calculation of h: integration of Cp(T)dT\n",
    "# function to get h from T and x  (enthalpy of dilution excluded...)\n",
    "def get_h(xi, T_1, T_2):\n",
    "    cp_T_ = lambda T: cp(T=T, x=xi)\n",
    "    h = intg.quad(cp_T_, T_1, T_2)\n",
    "    return h"
   ]
  },
  {
   "cell_type": "code",
   "execution_count": 65,
   "metadata": {},
   "outputs": [],
   "source": [
    "def get_h_with_cp_and_ref_25(T, x):\n",
    "    h_ref_25 = h_at_25_mass_frac(x)\n",
    "    intgral_cp = get_h(xi = x, T_1=298.15, T_2=T)[0]\n",
    "    h = h_ref_25 + intgral_cp\n",
    "    return h"
   ]
  },
  {
   "cell_type": "code",
   "execution_count": 66,
   "metadata": {},
   "outputs": [
    {
     "data": {
      "text/plain": [
       "6990.786877847062"
      ]
     },
     "execution_count": 66,
     "metadata": {},
     "output_type": "execute_result"
    }
   ],
   "source": [
    "get_h_with_cp_and_ref_25(288.15 , 0.3)"
   ]
  },
  {
   "cell_type": "code",
   "execution_count": 67,
   "metadata": {},
   "outputs": [
    {
     "data": {
      "text/plain": [
       "0.5021260467374954"
      ]
     },
     "execution_count": 67,
     "metadata": {},
     "output_type": "execute_result"
    }
   ],
   "source": [
    "0.3*42.394/(0.3*42.394 + 0.7*18.015)"
   ]
  },
  {
   "cell_type": "code",
   "execution_count": 69,
   "metadata": {},
   "outputs": [
    {
     "data": {
      "text/plain": [
       "542.9565412569956"
      ]
     },
     "execution_count": 69,
     "metadata": {},
     "output_type": "execute_result"
    }
   ],
   "source": [
    "get_h_with_cp_and_ref_25(350, 0.24293713)"
   ]
  },
  {
   "cell_type": "code",
   "execution_count": null,
   "metadata": {},
   "outputs": [],
   "source": []
  },
  {
   "cell_type": "code",
   "execution_count": null,
   "metadata": {},
   "outputs": [],
   "source": []
  },
  {
   "cell_type": "markdown",
   "metadata": {},
   "source": [
    "# MgCl2"
   ]
  },
  {
   "cell_type": "code",
   "execution_count": null,
   "metadata": {},
   "outputs": [],
   "source": [
    "MgCl2 = -641.32 + 801.15\n",
    "MgCl2"
   ]
  },
  {
   "cell_type": "raw",
   "metadata": {},
   "source": [
    "para_ramh_used = [8.3642, -6.8325, 4.2148, -0.56344]"
   ]
  },
  {
   "cell_type": "raw",
   "metadata": {},
   "source": [
    "ramh = lambda m: para_ramh_used[0]*m**0.5 + para_ramh_used[1]*m**1 + para_ramh_used[2]*m**1.5 + para_ramh_used[3]*m**2"
   ]
  },
  {
   "cell_type": "raw",
   "metadata": {},
   "source": [
    "rel_h = lambda m: ramh(m)*m # unit kJ/kg_water"
   ]
  },
  {
   "cell_type": "raw",
   "metadata": {},
   "source": [
    "delta_solution_unlimited = -155.82"
   ]
  },
  {
   "cell_type": "raw",
   "metadata": {},
   "source": [
    "h_water = lambda T: PropsSI('H','T',T,'Q',0, 'IF97::Water')/1000 #kJ/kg"
   ]
  },
  {
   "cell_type": "raw",
   "metadata": {},
   "source": [
    "h_0_ref_25 = lambda m: delta_solution_unlimited * m + h_water(298.15) # kJ/kg_h2o ... input mol/kg"
   ]
  },
  {
   "cell_type": "raw",
   "metadata": {},
   "source": [
    "h_at_25_mol = lambda m: (h_0_ref_25(m) + rel_h(m))/(1+0.095211*m) # unit kJ/kg # # kJ/kg_mgcl2_aq ... input mol/kg\n",
    "\n",
    "h_at_25_mass_frac = lambda x: h_at_25_mol(massfr_to_molal(x)) # unit kJ/kg"
   ]
  },
  {
   "cell_type": "raw",
   "metadata": {},
   "source": [
    "h_at_25_mass_frac(0)"
   ]
  }
 ],
 "metadata": {
  "kernelspec": {
   "display_name": "Python 3",
   "language": "python",
   "name": "python3"
  },
  "language_info": {
   "codemirror_mode": {
    "name": "ipython",
    "version": 3
   },
   "file_extension": ".py",
   "mimetype": "text/x-python",
   "name": "python",
   "nbconvert_exporter": "python",
   "pygments_lexer": "ipython3",
   "version": "3.7.4"
  }
 },
 "nbformat": 4,
 "nbformat_minor": 4
}
