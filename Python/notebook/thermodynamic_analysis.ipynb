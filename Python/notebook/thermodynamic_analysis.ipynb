{
 "cells": [
  {
   "cell_type": "markdown",
   "id": "general-magnitude",
   "metadata": {},
   "source": [
    "\n",
    "\n",
    "**Compare the sensible and latent heat generated in absorption/regeneration process**"
   ]
  },
  {
   "cell_type": "code",
   "execution_count": 1,
   "id": "latin-seattle",
   "metadata": {
    "tags": []
   },
   "outputs": [],
   "source": [
    "import os, sys\n",
    "\n",
    "import pandas as pd\n",
    "import numpy as np\n",
    "import matplotlib.pyplot as plt\n",
    "\n",
    "# modelica interface\n",
    "import buildingspy.simulate.Simulator as si\n",
    "import buildingspy.io.outputfile as buipy_io\n",
    "\n",
    "# thermal\n",
    "import  CoolProp.CoolProp as CP\n",
    "from CoolProp.HumidAirProp import HAPropsSI\n",
    "import psychrolib as psylib\n",
    "psylib.SetUnitSystem(psylib.SI)"
   ]
  },
  {
   "cell_type": "code",
   "execution_count": 2,
   "id": "brilliant-banks",
   "metadata": {},
   "outputs": [],
   "source": [
    "sys.path.insert(0, os.path.join('..', 'calibration'))\n",
    "from thermodynamics import *\n",
    "\n",
    "import media_model_mgcl2 as model_mg\n",
    "import media_model_water as model_w"
   ]
  },
  {
   "cell_type": "code",
   "execution_count": 3,
   "id": "residential-sight",
   "metadata": {},
   "outputs": [],
   "source": [
    "def readResults(path, mat_name):\n",
    "    res = buipy_io.Reader(path + \"/{}.mat\".format(mat_name), \"dymola\")\n",
    "    return res"
   ]
  },
  {
   "cell_type": "code",
   "execution_count": null,
   "id": "thermal-consumption",
   "metadata": {},
   "outputs": [],
   "source": []
  },
  {
   "cell_type": "markdown",
   "id": "quarterly-occasions",
   "metadata": {},
   "source": [
    "# test MgCl2 property"
   ]
  },
  {
   "cell_type": "code",
   "execution_count": 4,
   "id": "annual-death",
   "metadata": {},
   "outputs": [
    {
     "data": {
      "text/plain": [
       "1177.4065969358146"
      ]
     },
     "execution_count": 4,
     "metadata": {},
     "output_type": "execute_result"
    }
   ],
   "source": [
    "model_mg.rho_MgCl2(293.15, 0.2)"
   ]
  },
  {
   "cell_type": "code",
   "execution_count": 32,
   "id": "collaborative-transcript",
   "metadata": {},
   "outputs": [
    {
     "data": {
      "text/plain": [
       "0.03197874745421767"
      ]
     },
     "execution_count": 32,
     "metadata": {},
     "output_type": "execute_result"
    }
   ],
   "source": [
    "calc_x_des_equ(318.15,0.30)"
   ]
  },
  {
   "cell_type": "code",
   "execution_count": null,
   "id": "missing-moore",
   "metadata": {},
   "outputs": [],
   "source": []
  },
  {
   "cell_type": "markdown",
   "id": "careful-pastor",
   "metadata": {
    "tags": []
   },
   "source": [
    "# test moist air property and desiccant property function"
   ]
  },
  {
   "cell_type": "markdown",
   "id": "moved-globe",
   "metadata": {
    "tags": []
   },
   "source": [
    "## latent and sensible heat"
   ]
  },
  {
   "cell_type": "code",
   "execution_count": 16,
   "id": "proved-stanford",
   "metadata": {},
   "outputs": [
    {
     "data": {
      "text/plain": [
       "4.217489881213376"
      ]
     },
     "execution_count": 16,
     "metadata": {},
     "output_type": "execute_result"
    }
   ],
   "source": [
    "T_d_in = 300.65\n",
    "xi_d_in = 0.35\n",
    "T_d_out = 303.45\n",
    "m_d_in = 0.6\n",
    "delta_Q_des = model_mg.cp_MgCl2(T_d_in, xi_d_in) * (T_d_out - T_d_in) * m_d_in\n",
    "delta_Q_des"
   ]
  },
  {
   "cell_type": "code",
   "execution_count": 17,
   "id": "arctic-reading",
   "metadata": {},
   "outputs": [
    {
     "data": {
      "text/plain": [
       "4.42677"
      ]
     },
     "execution_count": 17,
     "metadata": {},
     "output_type": "execute_result"
    }
   ],
   "source": [
    "m_a_in = 0.3\n",
    "x_a_in = 0.0155\n",
    "x_a_o = 0.0096\n",
    "m_a_in * (x_a_in - x_a_o) * 2501"
   ]
  },
  {
   "cell_type": "markdown",
   "id": "stylish-murder",
   "metadata": {
    "tags": []
   },
   "source": [
    "## humid air property"
   ]
  },
  {
   "cell_type": "code",
   "execution_count": 6,
   "id": "authorized-office",
   "metadata": {},
   "outputs": [
    {
     "data": {
      "text/plain": [
       "0.1429074137538863"
      ]
     },
     "execution_count": 6,
     "metadata": {},
     "output_type": "execute_result"
    }
   ],
   "source": [
    "HAPropsSI('RH','T',273.15  + 35, 'P',101325, 'W',0.005)"
   ]
  },
  {
   "cell_type": "code",
   "execution_count": 7,
   "id": "renewable-engine",
   "metadata": {},
   "outputs": [
    {
     "data": {
      "text/plain": [
       "0.006961363875358594"
      ]
     },
     "execution_count": 7,
     "metadata": {},
     "output_type": "execute_result"
    }
   ],
   "source": [
    "HAPropsSI('W','T',273 + 35,'P',101325,'RH',0.2)"
   ]
  },
  {
   "cell_type": "code",
   "execution_count": 4,
   "id": "preliminary-tension",
   "metadata": {},
   "outputs": [
    {
     "data": {
      "text/plain": [
       "1008.26856184507"
      ]
     },
     "execution_count": 4,
     "metadata": {},
     "output_type": "execute_result"
    }
   ],
   "source": [
    "HAPropsSI('cp','T',299.15,'P',101325,'RH',0.05)"
   ]
  },
  {
   "cell_type": "markdown",
   "id": "technical-clearing",
   "metadata": {},
   "source": [
    "### calculate air sensible and latent heat difference with example of shanghai sommer"
   ]
  },
  {
   "cell_type": "code",
   "execution_count": 20,
   "id": "velvet-testing",
   "metadata": {},
   "outputs": [
    {
     "data": {
      "text/plain": [
       "94628.58400524332"
      ]
     },
     "execution_count": 20,
     "metadata": {},
     "output_type": "execute_result"
    }
   ],
   "source": [
    "# temp and humidity in Shanghai in July\n",
    "HAPropsSI('H','T',305.5,'P',101325,'RH',0.78)"
   ]
  },
  {
   "cell_type": "code",
   "execution_count": 22,
   "id": "thirty-philadelphia",
   "metadata": {},
   "outputs": [
    {
     "data": {
      "text/plain": [
       "68463.73475542483"
      ]
     },
     "execution_count": 22,
     "metadata": {},
     "output_type": "execute_result"
    }
   ],
   "source": [
    "HAPropsSI('H','T',299.15,'P',101325,'RH',0.78)"
   ]
  },
  {
   "cell_type": "code",
   "execution_count": 22,
   "id": "broadband-tennis",
   "metadata": {},
   "outputs": [
    {
     "data": {
      "text/plain": [
       "19.945145476241585"
      ]
     },
     "execution_count": 22,
     "metadata": {},
     "output_type": "execute_result"
    }
   ],
   "source": [
    "p_w = model_w.p_h2o_sat(T = 333.15)\n",
    "p_w"
   ]
  },
  {
   "cell_type": "code",
   "execution_count": 21,
   "id": "individual-ranch",
   "metadata": {},
   "outputs": [
    {
     "data": {
      "text/plain": [
       "10.486806790741099"
      ]
     },
     "execution_count": 21,
     "metadata": {},
     "output_type": "execute_result"
    }
   ],
   "source": [
    "p_ld = model_mg.pv_MgCl2(T=333.15, xi=0.3)\n",
    "p_ld"
   ]
  },
  {
   "cell_type": "code",
   "execution_count": 24,
   "id": "forty-allergy",
   "metadata": {},
   "outputs": [
    {
     "data": {
      "text/plain": [
       "0.013509939996637585"
      ]
     },
     "execution_count": 24,
     "metadata": {},
     "output_type": "execute_result"
    }
   ],
   "source": [
    "calc_x_des_equ(T_des=303.15, xi_des=0.3)"
   ]
  },
  {
   "cell_type": "markdown",
   "id": "generic-scratch",
   "metadata": {
    "tags": []
   },
   "source": [
    "## MgCl2 property"
   ]
  },
  {
   "cell_type": "markdown",
   "id": "weighted-lesson",
   "metadata": {
    "tags": []
   },
   "source": [
    "### plot equivalent humidity ratio of desiccant"
   ]
  },
  {
   "cell_type": "code",
   "execution_count": 8,
   "id": "different-latin",
   "metadata": {},
   "outputs": [],
   "source": [
    "T_range = np.arange(278.15, 333.15, step = 1)"
   ]
  },
  {
   "cell_type": "code",
   "execution_count": 9,
   "id": "announced-rehabilitation",
   "metadata": {},
   "outputs": [],
   "source": [
    "x_HA_max = [HAPropsSI('W','T',T, 'P',101325, 'RH',1) for T in T_range]"
   ]
  },
  {
   "cell_type": "code",
   "execution_count": 10,
   "id": "measured-eugene",
   "metadata": {},
   "outputs": [],
   "source": [
    "xi_max = [model_mg.C_max_desiccant(T) for T in T_range]\n",
    "x_des_min = np.vectorize(calc_x_des_equ)(T_range, xi_max) # at each desiccant temperature, the lowest humidity ratio that air can be dried to "
   ]
  },
  {
   "cell_type": "code",
   "execution_count": 11,
   "id": "catholic-silicon",
   "metadata": {},
   "outputs": [
    {
     "data": {
      "text/plain": [
       "0.00520850679346458"
      ]
     },
     "execution_count": 11,
     "metadata": {},
     "output_type": "execute_result"
    }
   ],
   "source": [
    "calc_x_des_equ(T_des = 288, xi_des=0.3)"
   ]
  },
  {
   "cell_type": "code",
   "execution_count": 19,
   "id": "viral-ocean",
   "metadata": {},
   "outputs": [
    {
     "data": {
      "image/png": "[encoded data removed]",
      "text/plain": [
       "<Figure size 720x576 with 1 Axes>"
      ]
     },
     "metadata": {
      "needs_background": "light"
     },
     "output_type": "display_data"
    }
   ],
   "source": [
    "fig, ax = plt.subplots(figsize=(10,8))\n",
    "\n",
    "ax.plot(T_range, x_HA_max, color = 'red', linestyle = '--', label = 'saturated air') # saturated air with 100% RH\n",
    "\n",
    "ax.plot(T_range, x_des_min, color = 'black', label = 'soluable limit', linestyle = '--')\n",
    "\n",
    "ax.plot(T_range, [calc_x_des_equ(T_des = T, xi_des=0.1) for T in T_range], label = 'xi = 0.1')\n",
    "ax.plot(T_range, [calc_x_des_equ(T_des = T, xi_des=0.15) for T in T_range], label = 'xi = 0.15')\n",
    "ax.plot(T_range, [calc_x_des_equ(T_des = T, xi_des=0.2) for T in T_range], label = 'xi = 0.2')\n",
    "ax.plot(T_range, [calc_x_des_equ(T_des = T, xi_des=0.25) for T in T_range], label = 'xi = 0.25')\n",
    "ax.plot(T_range, [calc_x_des_equ(T_des = T, xi_des=0.3) for T in T_range], label = 'xi = 0.3')\n",
    "ax.plot(T_range, [calc_x_des_equ(T_des = T, xi_des=0.35) for T in T_range], label = 'xi = 0.35')\n",
    "\n",
    "\n",
    "ax.set_xlabel('Temperature (K)', fontsize = 25)\n",
    "ax.set_ylabel('Humidity ratio (kg/kg)', fontsize = 25)\n",
    "ax.tick_params(labelsize = 20)\n",
    "\n",
    "plt.legend(fontsize = 15)\n",
    "plt.tight_layout()\n",
    "plt.savefig('limit_MgCl2.png')"
   ]
  },
  {
   "cell_type": "code",
   "execution_count": null,
   "id": "photographic-birthday",
   "metadata": {},
   "outputs": [],
   "source": []
  },
  {
   "cell_type": "code",
   "execution_count": 38,
   "id": "immune-recorder",
   "metadata": {},
   "outputs": [
    {
     "data": {
      "text/plain": [
       "3.6048109652781593"
      ]
     },
     "execution_count": 38,
     "metadata": {},
     "output_type": "execute_result"
    }
   ],
   "source": [
    "model_mg.cp_MgCl2(323.15, 0.1)"
   ]
  },
  {
   "cell_type": "markdown",
   "id": "advisory-affair",
   "metadata": {},
   "source": [
    "**check temperature dependency of air heat capacity**\n",
    "- results: The change of the heat capacity of humid air regarding to humidity is more signi"
   ]
  },
  {
   "cell_type": "code",
   "execution_count": 4,
   "id": "willing-secret",
   "metadata": {},
   "outputs": [
    {
     "data": {
      "text/plain": [
       "[<matplotlib.lines.Line2D at 0x1f13ea869d0>,\n",
       " <matplotlib.lines.Line2D at 0x1f13ea86850>,\n",
       " <matplotlib.lines.Line2D at 0x1f13ea86b50>,\n",
       " <matplotlib.lines.Line2D at 0x1f13ea86be0>]"
      ]
     },
     "execution_count": 4,
     "metadata": {},
     "output_type": "execute_result"
    },
    {
     "data": {
      "image/png": "[encoded data removed]",
      "text/plain": [
       "<Figure size 432x288 with 1 Axes>"
      ]
     },
     "metadata": {
      "needs_background": "light"
     },
     "output_type": "display_data"
    }
   ],
   "source": [
    "T_range = np.arange(273.15, 333.15, 0.5)\n",
    "cp_null = [HAPropsSI('cp','T',T,'P',101325,'W',0.001) for T in T_range]\n",
    "cp_low = [HAPropsSI('cp','T',T,'P',101325,'W',0.005) for T in T_range]\n",
    "cp_middle = [HAPropsSI('cp','T',T,'P',101325,'W',0.01) for T in T_range]\n",
    "cp_high = [HAPropsSI('cp','T',T,'P',101325,'W',0.015) for T in T_range]\n",
    "plt.plot(T_range, cp_null ,T_range, cp_low, T_range, cp_middle, T_range, cp_high)"
   ]
  },
  {
   "cell_type": "code",
   "execution_count": 14,
   "id": "rubber-officer",
   "metadata": {},
   "outputs": [
    {
     "data": {
      "text/plain": [
       "1008.0042666391254"
      ]
     },
     "execution_count": 14,
     "metadata": {},
     "output_type": "execute_result"
    }
   ],
   "source": [
    "HAPropsSI('cp','T', 333.15,'P',101325,'W',0.0)"
   ]
  },
  {
   "cell_type": "code",
   "execution_count": 23,
   "id": "hispanic-cherry",
   "metadata": {},
   "outputs": [
    {
     "data": {
      "text/plain": [
       "86519.06450328104"
      ]
     },
     "execution_count": 23,
     "metadata": {},
     "output_type": "execute_result"
    }
   ],
   "source": [
    "HAPropsSI('H','T', 333.15,'P',101325,'W',0.01)"
   ]
  },
  {
   "cell_type": "code",
   "execution_count": 25,
   "id": "thermal-nigeria",
   "metadata": {},
   "outputs": [
    {
     "data": {
      "text/plain": [
       "86.486"
      ]
     },
     "execution_count": 25,
     "metadata": {},
     "output_type": "execute_result"
    }
   ],
   "source": [
    "1.006*60 + 0.01*(1.86*60 + 2501)"
   ]
  },
  {
   "cell_type": "code",
   "execution_count": 8,
   "id": "legal-plane",
   "metadata": {},
   "outputs": [
    {
     "data": {
      "text/plain": [
       "0.03161189127248914"
      ]
     },
     "execution_count": 8,
     "metadata": {},
     "output_type": "execute_result"
    }
   ],
   "source": [
    "p_h2o_sat(298.15)"
   ]
  },
  {
   "cell_type": "markdown",
   "id": "planned-emerald",
   "metadata": {
    "tags": []
   },
   "source": [
    "## test different vapor pressure of LiCl(aq) at dehumidification and regeneration"
   ]
  },
  {
   "cell_type": "code",
   "execution_count": 5,
   "id": "mobile-mixer",
   "metadata": {},
   "outputs": [],
   "source": [
    "A_1 = [4.58208, -0.159174, 0.0072594]\n",
    "B_1 = [-18.3816, 0.5661, -0.019314]\n",
    "C_1 = [21.312, -0.666, 0.01332]"
   ]
  },
  {
   "cell_type": "code",
   "execution_count": 9,
   "id": "still-chemical",
   "metadata": {},
   "outputs": [],
   "source": [
    "A_2 = [16.294, -0.8893, 0.01927]\n",
    "B_2 = [74.3, -1.8035, -0.01875]\n",
    "C_2 = [-226.4, 7.49, -0.039]"
   ]
  },
  {
   "cell_type": "code",
   "execution_count": 4,
   "id": "sacred-synthetic",
   "metadata": {},
   "outputs": [],
   "source": [
    "def P_v(T, X, A, B, C):\n",
    "    '''\n",
    "    T in K\n",
    "    x in kg/kg\n",
    "    \n",
    "    p_v in pa ---feels like the unit should be kpa\n",
    "    \n",
    "    reference: Nelson Fumo 2002\n",
    "    '''\n",
    "    T = T-273.15\n",
    "    a = A[0] + A[1]*T + A[2]*T**2\n",
    "    b = (B[0] + B[1]*T + B[2]*T**2)*X\n",
    "    c = (C[0] + C[1]*T + C[2]*T**2)*X**2\n",
    "    P_v = a+b+c\n",
    "    return P_v"
   ]
  },
  {
   "cell_type": "code",
   "execution_count": 28,
   "id": "ultimate-castle",
   "metadata": {},
   "outputs": [
    {
     "data": {
      "text/plain": [
       "16.06392"
      ]
     },
     "execution_count": 28,
     "metadata": {},
     "output_type": "execute_result"
    }
   ],
   "source": [
    "P_v(333.15, 0.1, A_1, B_1, C_1)"
   ]
  },
  {
   "cell_type": "code",
   "execution_count": 29,
   "id": "caroline-morgan",
   "metadata": {},
   "outputs": [
    {
     "data": {
      "text/plain": [
       "22.993000000000006"
      ]
     },
     "execution_count": 29,
     "metadata": {},
     "output_type": "execute_result"
    }
   ],
   "source": [
    "P_v(333.15, 0.1, A_2, B_2, C_2)"
   ]
  },
  {
   "cell_type": "code",
   "execution_count": 32,
   "id": "married-watson",
   "metadata": {},
   "outputs": [
    {
     "data": {
      "text/plain": [
       "19.025761086619077"
      ]
     },
     "execution_count": 32,
     "metadata": {},
     "output_type": "execute_result"
    }
   ],
   "source": [
    "model_mg.pv_MgCl2(333.15, 0.1)"
   ]
  },
  {
   "cell_type": "markdown",
   "id": "present-heritage",
   "metadata": {
    "tags": []
   },
   "source": [
    "# Chen 2016 results"
   ]
  },
  {
   "cell_type": "code",
   "execution_count": 3,
   "id": "legendary-corrections",
   "metadata": {},
   "outputs": [],
   "source": [
    "df_chen = pd.read_excel('../exp_data/actual_data/Chen2016.xlsx', index_col=0)"
   ]
  },
  {
   "cell_type": "code",
   "execution_count": 4,
   "id": "distinguished-hierarchy",
   "metadata": {},
   "outputs": [
    {
     "data": {
      "text/html": [
       "<div>\n",
       "<style scoped>\n",
       "    .dataframe tbody tr th:only-of-type {\n",
       "        vertical-align: middle;\n",
       "    }\n",
       "\n",
       "    .dataframe tbody tr th {\n",
       "        vertical-align: top;\n",
       "    }\n",
       "\n",
       "    .dataframe thead th {\n",
       "        text-align: right;\n",
       "    }\n",
       "</style>\n",
       "<table border=\"1\" class=\"dataframe\">\n",
       "  <thead>\n",
       "    <tr style=\"text-align: right;\">\n",
       "      <th></th>\n",
       "      <th>T_a_in</th>\n",
       "      <th>x_a_in</th>\n",
       "      <th>m_a_in</th>\n",
       "      <th>T_d_in</th>\n",
       "      <th>xi_d_in</th>\n",
       "      <th>m_d_in</th>\n",
       "      <th>T_a_o_exp</th>\n",
       "      <th>x_a_o_exp</th>\n",
       "      <th>T_d_o_exp</th>\n",
       "      <th>xi_d_o_exp</th>\n",
       "      <th>T_d_o_sim</th>\n",
       "      <th>T_a_o_sim</th>\n",
       "      <th>x_a_o_sim</th>\n",
       "    </tr>\n",
       "  </thead>\n",
       "  <tbody>\n",
       "    <tr>\n",
       "      <th>1</th>\n",
       "      <td>298.75</td>\n",
       "      <td>0.0162</td>\n",
       "      <td>1.85</td>\n",
       "      <td>288.05</td>\n",
       "      <td>0.230</td>\n",
       "      <td>2.61</td>\n",
       "      <td>292.35</td>\n",
       "      <td>0.0091</td>\n",
       "      <td>294.45</td>\n",
       "      <td>0.2288</td>\n",
       "      <td>20.19</td>\n",
       "      <td>291.89</td>\n",
       "      <td>9.29</td>\n",
       "    </tr>\n",
       "    <tr>\n",
       "      <th>2</th>\n",
       "      <td>301.75</td>\n",
       "      <td>0.0202</td>\n",
       "      <td>1.87</td>\n",
       "      <td>291.35</td>\n",
       "      <td>0.240</td>\n",
       "      <td>2.63</td>\n",
       "      <td>296.05</td>\n",
       "      <td>0.0116</td>\n",
       "      <td>298.35</td>\n",
       "      <td>0.2385</td>\n",
       "      <td>24.45</td>\n",
       "      <td>295.41</td>\n",
       "      <td>11.41</td>\n",
       "    </tr>\n",
       "    <tr>\n",
       "      <th>3</th>\n",
       "      <td>300.65</td>\n",
       "      <td>0.0181</td>\n",
       "      <td>1.92</td>\n",
       "      <td>290.85</td>\n",
       "      <td>0.255</td>\n",
       "      <td>2.65</td>\n",
       "      <td>295.05</td>\n",
       "      <td>0.0099</td>\n",
       "      <td>297.45</td>\n",
       "      <td>0.2535</td>\n",
       "      <td>23.69</td>\n",
       "      <td>294.59</td>\n",
       "      <td>10.08</td>\n",
       "    </tr>\n",
       "    <tr>\n",
       "      <th>4</th>\n",
       "      <td>303.15</td>\n",
       "      <td>0.0177</td>\n",
       "      <td>1.89</td>\n",
       "      <td>292.05</td>\n",
       "      <td>0.260</td>\n",
       "      <td>2.66</td>\n",
       "      <td>296.65</td>\n",
       "      <td>0.0097</td>\n",
       "      <td>298.95</td>\n",
       "      <td>0.2585</td>\n",
       "      <td>24.74</td>\n",
       "      <td>296.10</td>\n",
       "      <td>10.22</td>\n",
       "    </tr>\n",
       "    <tr>\n",
       "      <th>5</th>\n",
       "      <td>300.75</td>\n",
       "      <td>0.0164</td>\n",
       "      <td>1.92</td>\n",
       "      <td>290.45</td>\n",
       "      <td>0.270</td>\n",
       "      <td>2.67</td>\n",
       "      <td>294.75</td>\n",
       "      <td>0.0087</td>\n",
       "      <td>296.85</td>\n",
       "      <td>0.2685</td>\n",
       "      <td>23.10</td>\n",
       "      <td>294.19</td>\n",
       "      <td>9.03</td>\n",
       "    </tr>\n",
       "  </tbody>\n",
       "</table>\n",
       "</div>"
      ],
      "text/plain": [
       "   T_a_in  x_a_in  m_a_in  T_d_in  xi_d_in  m_d_in  T_a_o_exp  x_a_o_exp  \\\n",
       "1  298.75  0.0162    1.85  288.05    0.230    2.61     292.35     0.0091   \n",
       "2  301.75  0.0202    1.87  291.35    0.240    2.63     296.05     0.0116   \n",
       "3  300.65  0.0181    1.92  290.85    0.255    2.65     295.05     0.0099   \n",
       "4  303.15  0.0177    1.89  292.05    0.260    2.66     296.65     0.0097   \n",
       "5  300.75  0.0164    1.92  290.45    0.270    2.67     294.75     0.0087   \n",
       "\n",
       "   T_d_o_exp  xi_d_o_exp  T_d_o_sim  T_a_o_sim  x_a_o_sim  \n",
       "1     294.45      0.2288      20.19     291.89       9.29  \n",
       "2     298.35      0.2385      24.45     295.41      11.41  \n",
       "3     297.45      0.2535      23.69     294.59      10.08  \n",
       "4     298.95      0.2585      24.74     296.10      10.22  \n",
       "5     296.85      0.2685      23.10     294.19       9.03  "
      ]
     },
     "execution_count": 4,
     "metadata": {},
     "output_type": "execute_result"
    }
   ],
   "source": [
    "df_chen.head()"
   ]
  },
  {
   "cell_type": "code",
   "execution_count": 5,
   "id": "canadian-executive",
   "metadata": {},
   "outputs": [],
   "source": [
    "df_chen = prepare_for_h_m(df_chen)"
   ]
  },
  {
   "cell_type": "code",
   "execution_count": 6,
   "id": "three-entity",
   "metadata": {},
   "outputs": [],
   "source": [
    "# dry air sensible\n",
    "df_chen['delta_Q_sen'] = np.vectorize(calc_sen_heat)(df_chen.T_a_in, df_chen.T_a_o_exp, df_chen.m_da)"
   ]
  },
  {
   "cell_type": "code",
   "execution_count": 7,
   "id": "entertaining-architecture",
   "metadata": {},
   "outputs": [],
   "source": [
    "# latent 1 --> moisture sensible\n",
    "df_chen['delta_Q_moisture_sensible'] = np.vectorize(calc_sen_heat)(df_chen.T_a_in, df_chen.T_a_o_exp, df_chen.m_da, df_chen.x_a_in) - df_chen['delta_Q_sen']\n",
    "#1860 * (df_chen['T_a_in'] - df_chen['T_a_o_exp']) * df_chen['m_da'] * df_chen['x_a_o_exp']\n",
    "#np.vectorize(calc_sen_heat)(df_chen.T_a_in, df_chen.T_a_o_exp, df_chen.m_da, df_chen.x_a_o_exp)\n",
    "\n",
    "# latent 2 --> moisture latent\n",
    "\n",
    "df_chen['delta_Q_moisture_latent'] = df_chen.m_a_in * (df_chen.x_a_in - df_chen.x_a_o_exp) * 2501000"
   ]
  },
  {
   "cell_type": "code",
   "execution_count": 8,
   "id": "focal-comment",
   "metadata": {},
   "outputs": [],
   "source": [
    "df_chen['sen_ratio'] = df_chen['delta_Q_sen'] / df_chen['delta_Q_a']\n",
    "df_chen['delta_x'] = df_chen['x_a_in'] - df_chen['x_a_o_exp']\n",
    "df_chen['delta_T'] = df_chen['T_a_in'] - df_chen['T_a_o_exp']"
   ]
  },
  {
   "cell_type": "code",
   "execution_count": 9,
   "id": "appropriate-guess",
   "metadata": {},
   "outputs": [
    {
     "data": {
      "text/html": [
       "<div>\n",
       "<style scoped>\n",
       "    .dataframe tbody tr th:only-of-type {\n",
       "        vertical-align: middle;\n",
       "    }\n",
       "\n",
       "    .dataframe tbody tr th {\n",
       "        vertical-align: top;\n",
       "    }\n",
       "\n",
       "    .dataframe thead th {\n",
       "        text-align: right;\n",
       "    }\n",
       "</style>\n",
       "<table border=\"1\" class=\"dataframe\">\n",
       "  <thead>\n",
       "    <tr style=\"text-align: right;\">\n",
       "      <th></th>\n",
       "      <th>T_a_in</th>\n",
       "      <th>delta_Q_a</th>\n",
       "      <th>delta_Q_sen</th>\n",
       "      <th>delta_Q_moisture_sensible</th>\n",
       "      <th>delta_Q_moisture_latent</th>\n",
       "      <th>sen_ratio</th>\n",
       "      <th>delta_x</th>\n",
       "      <th>delta_T</th>\n",
       "    </tr>\n",
       "  </thead>\n",
       "  <tbody>\n",
       "    <tr>\n",
       "      <th>1</th>\n",
       "      <td>298.75</td>\n",
       "      <td>45565.126332</td>\n",
       "      <td>11913.442483</td>\n",
       "      <td>363.658988</td>\n",
       "      <td>32850.635</td>\n",
       "      <td>0.261460</td>\n",
       "      <td>0.0071</td>\n",
       "      <td>6.4</td>\n",
       "    </tr>\n",
       "    <tr>\n",
       "      <th>2</th>\n",
       "      <td>301.75</td>\n",
       "      <td>51998.597839</td>\n",
       "      <td>10726.330598</td>\n",
       "      <td>409.062950</td>\n",
       "      <td>40221.082</td>\n",
       "      <td>0.206281</td>\n",
       "      <td>0.0086</td>\n",
       "      <td>5.7</td>\n",
       "    </tr>\n",
       "    <tr>\n",
       "      <th>3</th>\n",
       "      <td>300.65</td>\n",
       "      <td>51167.111273</td>\n",
       "      <td>10819.522620</td>\n",
       "      <td>369.269935</td>\n",
       "      <td>39375.744</td>\n",
       "      <td>0.211455</td>\n",
       "      <td>0.0082</td>\n",
       "      <td>5.6</td>\n",
       "    </tr>\n",
       "    <tr>\n",
       "      <th>4</th>\n",
       "      <td>303.15</td>\n",
       "      <td>51216.004813</td>\n",
       "      <td>12363.045597</td>\n",
       "      <td>412.219924</td>\n",
       "      <td>37815.120</td>\n",
       "      <td>0.241390</td>\n",
       "      <td>0.0080</td>\n",
       "      <td>6.5</td>\n",
       "    </tr>\n",
       "    <tr>\n",
       "      <th>5</th>\n",
       "      <td>300.75</td>\n",
       "      <td>49485.489946</td>\n",
       "      <td>11592.307658</td>\n",
       "      <td>358.021017</td>\n",
       "      <td>36974.784</td>\n",
       "      <td>0.234257</td>\n",
       "      <td>0.0077</td>\n",
       "      <td>6.0</td>\n",
       "    </tr>\n",
       "    <tr>\n",
       "      <th>6</th>\n",
       "      <td>294.85</td>\n",
       "      <td>42187.276042</td>\n",
       "      <td>15598.018564</td>\n",
       "      <td>316.312770</td>\n",
       "      <td>26020.404</td>\n",
       "      <td>0.369733</td>\n",
       "      <td>0.0051</td>\n",
       "      <td>7.6</td>\n",
       "    </tr>\n",
       "    <tr>\n",
       "      <th>7</th>\n",
       "      <td>295.85</td>\n",
       "      <td>50511.886910</td>\n",
       "      <td>12288.679562</td>\n",
       "      <td>354.346188</td>\n",
       "      <td>37444.972</td>\n",
       "      <td>0.243283</td>\n",
       "      <td>0.0076</td>\n",
       "      <td>6.2</td>\n",
       "    </tr>\n",
       "    <tr>\n",
       "      <th>8</th>\n",
       "      <td>297.85</td>\n",
       "      <td>47422.130411</td>\n",
       "      <td>10846.705608</td>\n",
       "      <td>312.509907</td>\n",
       "      <td>35784.308</td>\n",
       "      <td>0.228727</td>\n",
       "      <td>0.0073</td>\n",
       "      <td>5.5</td>\n",
       "    </tr>\n",
       "    <tr>\n",
       "      <th>9</th>\n",
       "      <td>296.45</td>\n",
       "      <td>46473.374770</td>\n",
       "      <td>10411.618850</td>\n",
       "      <td>280.238126</td>\n",
       "      <td>35336.629</td>\n",
       "      <td>0.224034</td>\n",
       "      <td>0.0071</td>\n",
       "      <td>5.2</td>\n",
       "    </tr>\n",
       "    <tr>\n",
       "      <th>10</th>\n",
       "      <td>297.15</td>\n",
       "      <td>45716.677191</td>\n",
       "      <td>7612.838452</td>\n",
       "      <td>217.876085</td>\n",
       "      <td>37359.938</td>\n",
       "      <td>0.166522</td>\n",
       "      <td>0.0077</td>\n",
       "      <td>3.9</td>\n",
       "    </tr>\n",
       "    <tr>\n",
       "      <th>11</th>\n",
       "      <td>297.35</td>\n",
       "      <td>48476.755656</td>\n",
       "      <td>6574.555475</td>\n",
       "      <td>198.164236</td>\n",
       "      <td>41101.434</td>\n",
       "      <td>0.135623</td>\n",
       "      <td>0.0083</td>\n",
       "      <td>3.3</td>\n",
       "    </tr>\n",
       "    <tr>\n",
       "      <th>12</th>\n",
       "      <td>298.25</td>\n",
       "      <td>45550.300237</td>\n",
       "      <td>7417.916371</td>\n",
       "      <td>212.220039</td>\n",
       "      <td>37359.938</td>\n",
       "      <td>0.162851</td>\n",
       "      <td>0.0077</td>\n",
       "      <td>3.8</td>\n",
       "    </tr>\n",
       "    <tr>\n",
       "      <th>13</th>\n",
       "      <td>298.35</td>\n",
       "      <td>44887.819707</td>\n",
       "      <td>8044.784009</td>\n",
       "      <td>216.369740</td>\n",
       "      <td>36089.430</td>\n",
       "      <td>0.179220</td>\n",
       "      <td>0.0074</td>\n",
       "      <td>4.1</td>\n",
       "    </tr>\n",
       "    <tr>\n",
       "      <th>14</th>\n",
       "      <td>299.05</td>\n",
       "      <td>48268.665700</td>\n",
       "      <td>6608.134699</td>\n",
       "      <td>197.806439</td>\n",
       "      <td>40811.318</td>\n",
       "      <td>0.136903</td>\n",
       "      <td>0.0082</td>\n",
       "      <td>3.3</td>\n",
       "    </tr>\n",
       "    <tr>\n",
       "      <th>15</th>\n",
       "      <td>298.75</td>\n",
       "      <td>45712.210528</td>\n",
       "      <td>7768.187843</td>\n",
       "      <td>208.903609</td>\n",
       "      <td>37167.361</td>\n",
       "      <td>0.169937</td>\n",
       "      <td>0.0077</td>\n",
       "      <td>4.0</td>\n",
       "    </tr>\n",
       "  </tbody>\n",
       "</table>\n",
       "</div>"
      ],
      "text/plain": [
       "    T_a_in     delta_Q_a   delta_Q_sen  delta_Q_moisture_sensible  \\\n",
       "1   298.75  45565.126332  11913.442483                 363.658988   \n",
       "2   301.75  51998.597839  10726.330598                 409.062950   \n",
       "3   300.65  51167.111273  10819.522620                 369.269935   \n",
       "4   303.15  51216.004813  12363.045597                 412.219924   \n",
       "5   300.75  49485.489946  11592.307658                 358.021017   \n",
       "6   294.85  42187.276042  15598.018564                 316.312770   \n",
       "7   295.85  50511.886910  12288.679562                 354.346188   \n",
       "8   297.85  47422.130411  10846.705608                 312.509907   \n",
       "9   296.45  46473.374770  10411.618850                 280.238126   \n",
       "10  297.15  45716.677191   7612.838452                 217.876085   \n",
       "11  297.35  48476.755656   6574.555475                 198.164236   \n",
       "12  298.25  45550.300237   7417.916371                 212.220039   \n",
       "13  298.35  44887.819707   8044.784009                 216.369740   \n",
       "14  299.05  48268.665700   6608.134699                 197.806439   \n",
       "15  298.75  45712.210528   7768.187843                 208.903609   \n",
       "\n",
       "    delta_Q_moisture_latent  sen_ratio  delta_x  delta_T  \n",
       "1                 32850.635   0.261460   0.0071      6.4  \n",
       "2                 40221.082   0.206281   0.0086      5.7  \n",
       "3                 39375.744   0.211455   0.0082      5.6  \n",
       "4                 37815.120   0.241390   0.0080      6.5  \n",
       "5                 36974.784   0.234257   0.0077      6.0  \n",
       "6                 26020.404   0.369733   0.0051      7.6  \n",
       "7                 37444.972   0.243283   0.0076      6.2  \n",
       "8                 35784.308   0.228727   0.0073      5.5  \n",
       "9                 35336.629   0.224034   0.0071      5.2  \n",
       "10                37359.938   0.166522   0.0077      3.9  \n",
       "11                41101.434   0.135623   0.0083      3.3  \n",
       "12                37359.938   0.162851   0.0077      3.8  \n",
       "13                36089.430   0.179220   0.0074      4.1  \n",
       "14                40811.318   0.136903   0.0082      3.3  \n",
       "15                37167.361   0.169937   0.0077      4.0  "
      ]
     },
     "execution_count": 9,
     "metadata": {},
     "output_type": "execute_result"
    }
   ],
   "source": [
    "df_chen[['T_a_in','delta_Q_a', 'delta_Q_sen', 'delta_Q_moisture_sensible', 'delta_Q_moisture_latent', 'sen_ratio', 'delta_x', 'delta_T']]"
   ]
  },
  {
   "cell_type": "code",
   "execution_count": null,
   "id": "varied-tanzania",
   "metadata": {},
   "outputs": [],
   "source": []
  },
  {
   "cell_type": "markdown",
   "id": "heated-decade",
   "metadata": {
    "tags": []
   },
   "source": [
    "# MgCl2 Results"
   ]
  },
  {
   "cell_type": "code",
   "execution_count": 4,
   "id": "burning-details",
   "metadata": {},
   "outputs": [
    {
     "data": {
      "text/plain": [
       "'C:\\\\Users\\\\guang\\\\GIT\\\\EnBA_M\\\\BrineGrid_HDisNet\\\\exported_results'"
      ]
     },
     "execution_count": 4,
     "metadata": {},
     "output_type": "execute_result"
    }
   ],
   "source": [
    "results_path = os.path.join(os.path.expanduser('~'), 'GIT', 'EnBA_M', 'BrineGrid_HDisNet', 'exported_results')\n",
    "results_path"
   ]
  },
  {
   "cell_type": "code",
   "execution_count": 5,
   "id": "civilian-springer",
   "metadata": {},
   "outputs": [],
   "source": [
    "results1 = readResults(results_path,  'MgCl2_1')"
   ]
  },
  {
   "cell_type": "markdown",
   "id": "constitutional-mathematics",
   "metadata": {
    "heading_collapsed": "true",
    "tags": []
   },
   "source": [
    "## Todo\n",
    "- [ ] T_a_in, T_d_in ......\n",
    "- [ ] write function"
   ]
  },
  {
   "cell_type": "code",
   "execution_count": 44,
   "id": "tight-breeding",
   "metadata": {},
   "outputs": [],
   "source": [
    "\n",
    "T_a_out_sim = results1.values(\"abs.air_out.T\")[1][-1]\n",
    "x_a_out_sim = air_mf_to_hr(results1.values(\"abs.air_out.X[1]\")[1][-1]) \n",
    "# in dymola, it is not humidity ratio, but mass fration, therefore need to be transfered.\n",
    "x_a_out_sim = x_a_out_sim / (1-x_a_out_sim)\n",
    "T_d_out_sim = results1.values(\"abs.abs_out.T\")[1][-1]\n",
    "xi_d_out_sim = results1.values(\"abs.abs_out.X[2]\")[1][-1]\n",
    "\n",
    "dict_1 = {'T_a_o_sim_reg':[T_a_out_sim],\n",
    "         \"x_a_o_sim_reg\": [x_a_out_sim],\n",
    "         'T_d_o_sim_reg':[T_d_out_sim],\n",
    "         'xi_d_o_sim_reg':[xi_d_out_sim]}\n",
    "df = pd.DataFrame(data = dict_1)"
   ]
  },
  {
   "cell_type": "code",
   "execution_count": 45,
   "id": "sustained-thompson",
   "metadata": {},
   "outputs": [
    {
     "data": {
      "text/html": [
       "<div>\n",
       "<style scoped>\n",
       "    .dataframe tbody tr th:only-of-type {\n",
       "        vertical-align: middle;\n",
       "    }\n",
       "\n",
       "    .dataframe tbody tr th {\n",
       "        vertical-align: top;\n",
       "    }\n",
       "\n",
       "    .dataframe thead th {\n",
       "        text-align: right;\n",
       "    }\n",
       "</style>\n",
       "<table border=\"1\" class=\"dataframe\">\n",
       "  <thead>\n",
       "    <tr style=\"text-align: right;\">\n",
       "      <th></th>\n",
       "      <th>T_a_o_sim_reg</th>\n",
       "      <th>x_a_o_sim_reg</th>\n",
       "      <th>T_d_o_sim_reg</th>\n",
       "      <th>xi_d_o_sim_reg</th>\n",
       "    </tr>\n",
       "  </thead>\n",
       "  <tbody>\n",
       "    <tr>\n",
       "      <th>0</th>\n",
       "      <td>290.379517</td>\n",
       "      <td>0.005205</td>\n",
       "      <td>288.65686</td>\n",
       "      <td>0.317759</td>\n",
       "    </tr>\n",
       "  </tbody>\n",
       "</table>\n",
       "</div>"
      ],
      "text/plain": [
       "   T_a_o_sim_reg  x_a_o_sim_reg  T_d_o_sim_reg  xi_d_o_sim_reg\n",
       "0     290.379517       0.005205      288.65686        0.317759"
      ]
     },
     "execution_count": 45,
     "metadata": {},
     "output_type": "execute_result"
    }
   ],
   "source": [
    "df"
   ]
  }
 ],
 "metadata": {
  "kernelspec": {
   "display_name": "Python 3",
   "language": "python",
   "name": "python3"
  },
  "language_info": {
   "codemirror_mode": {
    "name": "ipython",
    "version": 3
   },
   "file_extension": ".py",
   "mimetype": "text/x-python",
   "name": "python",
   "nbconvert_exporter": "python",
   "pygments_lexer": "ipython3",
   "version": "3.8.8"
  },
  "toc-autonumbering": true
 },
 "nbformat": 4,
 "nbformat_minor": 5
}
