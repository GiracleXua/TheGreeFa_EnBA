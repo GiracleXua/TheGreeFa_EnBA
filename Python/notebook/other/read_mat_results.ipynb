{
 "cells": [
  {
   "cell_type": "code",
   "execution_count": 1,
   "id": "strategic-drinking",
   "metadata": {},
   "outputs": [],
   "source": [
    "import buildingspy.io.outputfile as buipy_io"
   ]
  },
  {
   "cell_type": "code",
   "execution_count": 4,
   "id": "above-canal",
   "metadata": {},
   "outputs": [],
   "source": [
    "def readResults(path, mat_name):\n",
    "    res = buipy_io.Reader(path + \"/{}.mat\".format(mat_name), \"dymola\")\n",
    "    return res"
   ]
  },
  {
   "cell_type": "code",
   "execution_count": 6,
   "id": "suburban-nickname",
   "metadata": {},
   "outputs": [],
   "source": [
    "res_all = readResults(path=\"../BrineGrid_HDisNet/modelica_results/Mar_30_2021_dempav_Calibration_MgCl2/results_of_8/Case_2_calibr/\", mat_name=\"Calibration_MgCl2\")"
   ]
  },
  {
   "cell_type": "code",
   "execution_count": 12,
   "id": "finnish-experience",
   "metadata": {},
   "outputs": [
    {
     "data": {
      "text/plain": [
       "(array([   0., 3600.], dtype=float32), array([308.02, 308.02], dtype=float32))"
      ]
     },
     "execution_count": 12,
     "metadata": {},
     "output_type": "execute_result"
    }
   ],
   "source": [
    "res_all.values(\"T_air\")"
   ]
  },
  {
   "cell_type": "code",
   "execution_count": null,
   "id": "opposed-vocabulary",
   "metadata": {},
   "outputs": [],
   "source": []
  }
 ],
 "metadata": {
  "kernelspec": {
   "display_name": "Python 3",
   "language": "python",
   "name": "python3"
  },
  "language_info": {
   "codemirror_mode": {
    "name": "ipython",
    "version": 3
   },
   "file_extension": ".py",
   "mimetype": "text/x-python",
   "name": "python",
   "nbconvert_exporter": "python",
   "pygments_lexer": "ipython3",
   "version": "3.8.8"
  }
 },
 "nbformat": 4,
 "nbformat_minor": 5
}
