{
 "cells": [
  {
   "cell_type": "code",
   "execution_count": null,
   "id": "amateur-conflict",
   "metadata": {},
   "outputs": [],
   "source": [
    "import os, sys\n",
    "\n",
    "import pandas as pd\n",
    "import numpy as np\n",
    "import matplotlib.pyplot as plt\n",
    "import multiprocessing as mp\n",
    "\n",
    "# modelica interface\n",
    "import buildingspy.simulate.Simulator as si\n",
    "import buildingspy.io.outputfile as buipy_io\n",
    "\n",
    "# thermal\n",
    "import  CoolProp.CoolProp as CP\n",
    "from CoolProp.HumidAirProp import HAPropsSI\n",
    "import psychrolib as psylib\n",
    "psylib.SetUnitSystem(psylib.SI)"
   ]
  },
  {
   "cell_type": "code",
   "execution_count": null,
   "id": "married-buffalo",
   "metadata": {},
   "outputs": [],
   "source": [
    "sys.path.insert(0, os.path.join('.','..','calibration'))\n",
    "from thermodynamics import *\n",
    "from postprocessing import *\n",
    "from plotting import *\n",
    "from calibration_MgCl2_class import *\n",
    "\n",
    "# import code of mathieu\n",
    "import media_model_mgcl2 as model_mg\n",
    "import media_model_water as model_w"
   ]
  },
  {
   "cell_type": "code",
   "execution_count": null,
   "id": "blessed-scene",
   "metadata": {},
   "outputs": [],
   "source": [
    "%load_ext autoreload\n",
    "# only reload the function imported by \"aimport\"\n",
    "%autoreload 1\n",
    "%aimport thermodynamics, postprocessing, plotting, calibration_MgCl2_class"
   ]
  },
  {
   "cell_type": "markdown",
   "id": "aggregate-former",
   "metadata": {
    "heading_collapsed": "true",
    "tags": []
   },
   "source": [
    "# Data preprocessing"
   ]
  },
  {
   "cell_type": "code",
   "execution_count": null,
   "id": "pressing-presentation",
   "metadata": {},
   "outputs": [],
   "source": [
    "path_expdata = os.path.join(os.path.expanduser('~'), 'GIT', 'TheGreeFa_EnBA', 'Data_input', 'measurement')"
   ]
  },
  {
   "cell_type": "markdown",
   "id": "charming-senior",
   "metadata": {
    "heading_collapsed": "true",
    "tags": []
   },
   "source": [
    "## Chen2016"
   ]
  },
  {
   "cell_type": "code",
   "execution_count": null,
   "id": "raised-kernel",
   "metadata": {},
   "outputs": [],
   "source": [
    "df_chen_data = pd.read_excel(os.path.join(path_expdata, \"actual_data_converted/Chen2016.xlsx\"), index_col=0)"
   ]
  },
  {
   "cell_type": "code",
   "execution_count": null,
   "id": "scenic-champion",
   "metadata": {},
   "outputs": [],
   "source": [
    "df_chen_data['x_d_in_equ'] = np.vectorize(calc_x_des_equ)(df_chen_data.T_d_in, df_chen_data.xi_d_in)\n",
    "df_chen_data[\"RH_a_in\"] = np.vectorize(get_RH)(df_chen_data.T_a_in, df_chen_data.x_a_in) *100\n",
    "df_chen_data[\"RH_a_o_exp\"] = np.vectorize(get_RH)(df_chen_data.T_a_o_exp, df_chen_data.x_a_o_exp) *100\n",
    "df_chen_data[\"RH_d_in_equ\"] = np.vectorize(get_RH)(df_chen_data.T_d_in, df_chen_data.x_d_in_equ) *100"
   ]
  },
  {
   "cell_type": "code",
   "execution_count": null,
   "id": "brilliant-segment",
   "metadata": {
    "tags": []
   },
   "outputs": [],
   "source": [
    "plot_with_des_point_df(df_data=df_chen_data, chart_template='minimal', use_line_highlight = False, ncol = 3, ) # save_fig_name=\"Chen_minimal.png\""
   ]
  },
  {
   "cell_type": "markdown",
   "id": "accredited-minneapolis",
   "metadata": {
    "tags": []
   },
   "source": [
    "## Dempav"
   ]
  },
  {
   "cell_type": "code",
   "execution_count": null,
   "id": "continental-majority",
   "metadata": {},
   "outputs": [],
   "source": [
    "df_exp_dempav = pd.read_excel(os.path.join(path_expdata, \"actual_data_converted/dempav_T_des_corrected.xlsx\"), index_col=0)\n",
    "df_exp_dempav.head()"
   ]
  },
  {
   "cell_type": "code",
   "execution_count": null,
   "id": "effective-category",
   "metadata": {},
   "outputs": [],
   "source": [
    "df_exp_dempav['x_d_in_equ'] = np.vectorize(calc_x_des_equ)(df_exp_dempav.T_d_in, df_exp_dempav.xi_d_in)\n",
    "df_exp_dempav[\"RH_a_in\"] = df_exp_dempav[\"RH_a_in\"] * 100\n",
    "df_exp_dempav[\"RH_a_o_exp\"] = df_exp_dempav[\"RH_a_o_exp\"] * 100\n",
    "df_exp_dempav[\"RH_d_in_equ\"] = np.vectorize(get_RH)(df_exp_dempav.T_d_in, df_exp_dempav.x_d_in_equ) *100"
   ]
  },
  {
   "cell_type": "code",
   "execution_count": null,
   "id": "hungry-queen",
   "metadata": {},
   "outputs": [],
   "source": [
    "plot_air_state_df(df_data=df_exp_dempav, chart_template=\"minimal\", alpha=0.8, )  # save_fig_name='dempav_all.png'"
   ]
  },
  {
   "cell_type": "code",
   "execution_count": null,
   "id": "severe-characterization",
   "metadata": {},
   "outputs": [],
   "source": [
    "df_exp_dempav.query('T_a_in - T_a_o_exp > 2').shape"
   ]
  },
  {
   "cell_type": "code",
   "execution_count": null,
   "id": "positive-sperm",
   "metadata": {},
   "outputs": [],
   "source": [
    "plot_with_des_point_df(df_data=df_exp_dempav.query('T_a_in - T_a_o_exp > 2'), chart_template=\"minimal\", alpha=0.8, save_fig_name='dempav_cooling.png') # save_fig_name='dempav_cooling.png' "
   ]
  },
  {
   "cell_type": "markdown",
   "id": "annual-victor",
   "metadata": {
    "tags": []
   },
   "source": [
    "# Calculate Nu/Sh through calibration\n",
    "- the main code for this section can be found in calibration_MgCl2_class.py"
   ]
  },
  {
   "cell_type": "markdown",
   "id": "caroline-butler",
   "metadata": {
    "tags": []
   },
   "source": [
    "## Chen2016"
   ]
  },
  {
   "cell_type": "code",
   "execution_count": null,
   "id": "extensive-duncan",
   "metadata": {},
   "outputs": [],
   "source": [
    "def run_calib_LiCl(prefix_output, file_name):\n",
    "    bib_path = os.path.join(os.path.expanduser(\"~\"),\"GIT\", 'TheGreeFa_EnBA')\n",
    "    model_path = 'BrineGrid.Fluid.Absorbers.Examples.Validation.'\n",
    "    \n",
    "    # run chen2016\n",
    "    model_name = 'Calibration_Chen_2016'\n",
    "    print(\"*****start {}******\".format(model_name))\n",
    "\n",
    "    df = pd.read_excel(os.path.join(bib_path, \"Data_input\", \"measurement\", \"actual_data_converted/{}\".format(file_name)),\\\n",
    "                       index_col=0)\n",
    "    print(df)\n",
    "\n",
    "    # generate object for calibration class\n",
    "    \n",
    "    LiCl_obj = Calibration_H_M_transfer(t_stop=3600, exchange_area=450*1.5*0.75*0.75, d_e=0.01, type_desiccant='LiCl',\\\n",
    "        cross_area=1.5*0.75, void_fraction = 0.9,bib_path=bib_path, model_path = model_path, nNodes=8, mNodes=8, \\\n",
    "            model_name=model_name, prefix_outputfolder=prefix_output, flow_config = 'cross')\n",
    "\n",
    "    output_path = LiCl_obj.get_output_folder()\n",
    "\n",
    "    # # run multiple calibration\n",
    "    LiCl_obj.mp_run(df=df, num_core=mp.cpu_count()-2)\n",
    "    # # run single calibration\n",
    "    # LiCl_obj.run_calibration(input_dataset=df.iloc[9,:])\n",
    "\n",
    "    df_output = LiCl_obj.read_results(path=output_path)\n",
    "    df_output.to_csv(path_or_buf=os.path.join(output_path, 'final_output.csv'))\n",
    "\n",
    "    print('{} finished'.format(model_name))\n",
    "    return"
   ]
  },
  {
   "cell_type": "code",
   "execution_count": null,
   "id": "engaging-delicious",
   "metadata": {},
   "outputs": [],
   "source": [
    "run_calib_LiCl(\"New_Git_\", \"Chen2016.xlsx\")"
   ]
  },
  {
   "cell_type": "markdown",
   "id": "adopted-engineering",
   "metadata": {
    "tags": []
   },
   "source": [
    "## Dempav"
   ]
  },
  {
   "cell_type": "code",
   "execution_count": null,
   "id": "opened-leader",
   "metadata": {},
   "outputs": [],
   "source": [
    "def run_calib_MgCl2_dempav(prefix_output, file_name):\n",
    "    # # run MgCl2\n",
    "    model_name = 'Calibration_MgCl2_dempav'\n",
    "    print(\"*****start {}******\".format(model_name))\n",
    "\n",
    "    bib_path = os.path.join(os.path.expanduser(\"~\"),\"GIT\",'TheGreeFa_EnBA')\n",
    "    model_path = 'BrineGrid.Fluid.Absorbers.Examples.Validation.'\n",
    "\n",
    "    df = pd.read_excel(os.path.join(bib_path, \"Data_input\", \"measurement\", \"actual_data_converted/{}\").format(file_name),index_col = 0) .query('T_a_in - T_a_o_exp > 2')\n",
    "    print(df)\n",
    "    \n",
    "    # # generate object for calibration class\n",
    "    MgCl2_obj = Calibration_H_M_transfer(t_stop=3600, exchange_area=6.5, d_e=0.04, cross_area = 0.065, \\\n",
    "        void_fraction = 0.95, delta_T = 0.5, bib_path=bib_path, model_path = model_path, \\\n",
    "            nNodes=8, mNodes=8, model_name=model_name, prefix_outputfolder=prefix_output)\n",
    "    \n",
    "    output_path = MgCl2_obj.get_output_folder()\n",
    "    print(\"output path is: {}.\".format(output_path))\n",
    "    \n",
    "    try:\n",
    "        MgCl2_obj.run_calibration(input_dataset=df.iloc[8,:]) # single simulation\n",
    "        # MgCl2_obj.mp_run(df=df, num_core=8) #mp.cpu_count()- 4\n",
    "    except:\n",
    "        print('Calibration for {} + {} didn\\'t completely finished.'.format(model_name, file_name))\n",
    "\n",
    "    df_output = MgCl2_obj.read_results(path=output_path)\n",
    "    df_output.to_csv(path_or_buf=os.path.join(output_path, 'final_output.csv'))\n",
    "\n",
    "    print('{} (dempav) finished'.format(model_name))\n",
    "    return"
   ]
  },
  {
   "cell_type": "code",
   "execution_count": null,
   "id": "accomplished-symbol",
   "metadata": {},
   "outputs": [],
   "source": [
    "run_calib_MgCl2_dempav(\"2021_oct_dempav_3_\", \"dempav_T_des_corrected.xlsx\")"
   ]
  },
  {
   "cell_type": "code",
   "execution_count": null,
   "id": "informed-cologne",
   "metadata": {},
   "outputs": [],
   "source": []
  },
  {
   "cell_type": "markdown",
   "id": "italian-rugby",
   "metadata": {
    "tags": []
   },
   "source": [
    "# Get Nu/Sh formula through regression\n",
    "- the main code for this section can be found in calibration_MgCl2_class.py\n",
    "\n",
    "- Note: the parameter a-f calculated through regression should be kept as small as possbile (-2 to +2 recommended) to avoid the deviation caused by expoential calculation"
   ]
  },
  {
   "cell_type": "markdown",
   "id": "talented-criminal",
   "metadata": {
    "tags": []
   },
   "source": [
    "## Chen2016"
   ]
  },
  {
   "cell_type": "code",
   "execution_count": null,
   "id": "appointed-microwave",
   "metadata": {},
   "outputs": [],
   "source": [
    "# check results of last step:\n",
    "bath_path = os.path.join(os.path.expanduser(\"~\"),\"GIT\",\"TheGreeFa_EnBA\", \"Results\", \"modelica\")\n",
    "folder_name = \"2021_oct_Calibration_Chen_2016\"\n",
    "file_name = \"final_output.csv\"\n",
    "\n",
    "df = pd.read_csv(os.path.join(bath_path, folder_name, file_name), index_col=0)\n",
    "df"
   ]
  },
  {
   "cell_type": "code",
   "execution_count": null,
   "id": "senior-kennedy",
   "metadata": {},
   "outputs": [],
   "source": [
    "# declare object\n",
    "obj_postproc = EnBA_M_post_processing(folder_name = \"2021_oct_Calibration_Chen_2016\", file_name = \"final_output.csv\")\n",
    "\n",
    "# run regression\n",
    "obj_postproc.run_regression_generate_results(method=\"scipy\", Nu_num_training=12, \\\n",
    "                                               Nu_if_sorted=True, Sh_num_training=12, \\\n",
    "                                               Sh_if_sorted=False, physical_Nu_Sh=False, if_plot=True, max_iter=10000)"
   ]
  },
  {
   "cell_type": "markdown",
   "id": "competitive-orientation",
   "metadata": {
    "tags": []
   },
   "source": [
    "## Dempav"
   ]
  },
  {
   "cell_type": "code",
   "execution_count": null,
   "id": "split-arthritis",
   "metadata": {},
   "outputs": [],
   "source": [
    "# check results of last step:\n",
    "bath_path = os.path.join(os.path.expanduser(\"~\"),\"GIT\",\"TheGreeFa_EnBA\", \"Results\", \"modelica\")\n",
    "folder_name = \"2021_oct_dempav_Calibration_MgCl2_dempav\"\n",
    "file_name = \"final_output.csv\"\n",
    "\n",
    "df = pd.read_csv(os.path.join(bath_path, folder_name, file_name), index_col=0)\n",
    "df"
   ]
  },
  {
   "cell_type": "code",
   "execution_count": null,
   "id": "emerging-stranger",
   "metadata": {
    "tags": []
   },
   "outputs": [],
   "source": [
    "# declare object\n",
    "obj_postproc = EnBA_M_post_processing(folder_name = \"2021_oct_dempav_Calibration_MgCl2_dempav\", file_name = \"final_output.csv\")\n",
    "\n",
    "# run regression\n",
    "obj_postproc.run_regression_generate_results(method=\"scipy\", Nu_num_training=12, \\\n",
    "                                               Nu_if_sorted=False, Sh_num_training=12, \\\n",
    "                                               Sh_if_sorted=False, physical_Nu_Sh=False, if_plot=True, max_iter=10000)"
   ]
  },
  {
   "cell_type": "code",
   "execution_count": null,
   "id": "angry-serum",
   "metadata": {},
   "outputs": [],
   "source": []
  },
  {
   "cell_type": "markdown",
   "id": "signal-qatar",
   "metadata": {
    "tags": []
   },
   "source": [
    "# run simulation with new Nu-Sh Formular (calculated by regression)\n",
    "- Firstly, the formular needs to be passed into modelica manually"
   ]
  },
  {
   "cell_type": "code",
   "execution_count": null,
   "id": "designed-mother",
   "metadata": {},
   "outputs": [],
   "source": [
    "def run_Chen_fomular_NuSh(prefix_output, file_name):\n",
    "    # run simulation using implemented formular for Nu&Sh in Modelica #\n",
    "    model_name = 'Validation_new_formular_Chen_2016'\n",
    "    print(\"*****start {}******\".format(model_name))\n",
    "\n",
    "    bib_path = os.path.join(os.path.expanduser(\"~\"),\"GIT\",'TheGreeFa_EnBA')\n",
    "    model_path = 'BrineGrid.Fluid.Absorbers.Examples.Validation.'\n",
    "\n",
    "    df = pd.read_excel(os.path.join(bib_path, \"Data_input\", \"measurement\", \"actual_data_converted/{}\".format(file_name)),\\\n",
    "                       index_col = 0)\n",
    "    print(df)\n",
    "\n",
    "    # # generate object for calibration class\n",
    "    LiCl2_obj = Calibration_H_M_transfer(t_stop=1800, exchange_area=450*1.5*0.75*0.75, type_desiccant='LiCl',\\\n",
    "        d_e=0.01, cross_area = 1.5*0.75, void_fraction = 0.9, bib_path=bib_path, model_path = model_path, flow_config = 'cross', \\\n",
    "        nNodes=10, mNodes=10, model_name=model_name, prefix_outputfolder=prefix_output, if_Nu_Sh_const=False)\n",
    "\n",
    "    output_path = LiCl2_obj.get_output_folder()\n",
    "    \n",
    "    print(\"output path is: {}.\".format(output_path))\n",
    "    \n",
    "    # LiCl2_obj.run_single_simulation(input_dataset=df.iloc[0,:])\n",
    "    LiCl2_obj.mp_run(df=df, mode=\"simulation\", num_core=mp.cpu_count()-2)\n",
    "\n",
    "    df_output = LiCl2_obj.read_results(path=output_path, mode=\"simulation\")\n",
    "    df_output.to_csv(path_or_buf=os.path.join(output_path, 'final_output.csv'))\n",
    "\n",
    "    print('{} finished'.format(model_name))\n",
    "    return"
   ]
  },
  {
   "cell_type": "code",
   "execution_count": null,
   "id": "peripheral-genius",
   "metadata": {},
   "outputs": [],
   "source": [
    "# run_Chen_fomular_NuSh(prefix_output='Chen_regress_fomular_Nu_Sh_2021Nov_2_', file_name='Chen2016.xlsx')"
   ]
  },
  {
   "cell_type": "markdown",
   "id": "educated-wheat",
   "metadata": {},
   "source": [
    "# Validate the results"
   ]
  },
  {
   "cell_type": "markdown",
   "id": "interim-patio",
   "metadata": {},
   "source": [
    "## Chen2016"
   ]
  },
  {
   "cell_type": "markdown",
   "id": "rural-vision",
   "metadata": {
    "tags": []
   },
   "source": [
    "### read simulation results"
   ]
  },
  {
   "cell_type": "code",
   "execution_count": null,
   "id": "split-canyon",
   "metadata": {},
   "outputs": [],
   "source": [
    "bath_path = os.path.join(os.path.expanduser(\"~\"),\"GIT\",\"TheGreeFa_EnBA\", \"Results\", \"modelica\")\n",
    "folder_name = \"Chen_regress_fomular_Nu_Sh_2021Nov_2_Calibration_Chen_2016\"\n",
    "file_name = \"final_output.csv\"\n",
    "\n",
    "df_sim_results = pd.read_csv(os.path.join(bath_path, folder_name, file_name), index_col=0)\n",
    "df_sim_results"
   ]
  },
  {
   "cell_type": "markdown",
   "id": "continued-sacrifice",
   "metadata": {
    "tags": []
   },
   "source": [
    "### Model results verification by comparing with expdata and plotting"
   ]
  },
  {
   "cell_type": "code",
   "execution_count": null,
   "id": "vulnerable-subcommittee",
   "metadata": {},
   "outputs": [],
   "source": [
    "df_sim_results[\"delta_T_a_exp\"] =  df_sim_results.T_a_in - df_sim_results.T_a_o_exp\n",
    "df_sim_results[\"delta_x_a_exp\"] =  df_sim_results.x_a_in - df_sim_results.x_a_o_exp"
   ]
  },
  {
   "cell_type": "code",
   "execution_count": null,
   "id": "cognitive-warning",
   "metadata": {},
   "outputs": [],
   "source": [
    "df_sim_results[\"delta_T_a_sim\"] =  df_sim_results.T_a_in - df_sim_results.T_a_o_sim_reg\n",
    "df_sim_results[\"delta_x_a_sim\"] =  df_sim_results.x_a_in - df_sim_results.x_a_o_sim_reg"
   ]
  },
  {
   "cell_type": "code",
   "execution_count": null,
   "id": "lesbian-venue",
   "metadata": {},
   "outputs": [],
   "source": [
    "df_results_compare = df_sim_results[[\"delta_T_a_exp\", \"delta_x_a_exp\", \"delta_T_a_sim\", \"delta_x_a_sim\"]]"
   ]
  },
  {
   "cell_type": "code",
   "execution_count": null,
   "id": "appreciated-shelf",
   "metadata": {},
   "outputs": [],
   "source": [
    "plot_compare_2_cols(df_results_compare.delta_T_a_exp, df_results_compare.delta_T_a_sim, deviation = 0.1, x_label = \"Änderung der Lufttemp. (Messung)\", y_label = \"Änderung der Lufttemp. (Simulation)\", save_fig=\"Chen_T\")"
   ]
  },
  {
   "cell_type": "code",
   "execution_count": null,
   "id": "raising-degree",
   "metadata": {},
   "outputs": [],
   "source": [
    "plot_compare_2_cols(df_results_compare.delta_x_a_exp, df_results_compare.delta_x_a_sim, deviation=0.1, x_label = \"Änderung der Luftfeuchte (Messung)\", y_label = \"Änderung der Luftfeuchte (Simulation)\", save_fig=\"Chen_x\")"
   ]
  },
  {
   "cell_type": "code",
   "execution_count": null,
   "id": "comparative-analysis",
   "metadata": {},
   "outputs": [],
   "source": []
  },
  {
   "cell_type": "markdown",
   "id": "forward-globe",
   "metadata": {},
   "source": [
    "## Dempav"
   ]
  },
  {
   "cell_type": "markdown",
   "id": "tender-separate",
   "metadata": {},
   "source": [
    "### read sim results"
   ]
  },
  {
   "cell_type": "code",
   "execution_count": null,
   "id": "level-crossing",
   "metadata": {},
   "outputs": [],
   "source": [
    "bath_path = os.path.join(os.path.expanduser(\"~\"),\"GIT\",\"TheGreeFa_EnBA\", \"Results\", \"modelica\")\n",
    "folder_name = \"Dempav_regress_fomular_Nu_Sh_2021Nov_Validation_MgCl2_dempav\"\n",
    "file_name = \"final_output.csv\"\n",
    "\n",
    "df_sim_results = pd.read_csv(os.path.join(bath_path, folder_name, file_name), index_col=0)\n",
    "df_sim_results"
   ]
  },
  {
   "cell_type": "code",
   "execution_count": null,
   "id": "bearing-rotation",
   "metadata": {},
   "outputs": [],
   "source": [
    "df_sim_results[\"delta_T_a_exp\"] =  df_sim_results.T_a_in - df_sim_results.T_a_o_exp\n",
    "df_sim_results[\"delta_x_a_exp\"] =  df_sim_results.x_a_in - df_sim_results.x_a_o_exp\n",
    "df_sim_results[\"delta_T_a_sim\"] =  df_sim_results.T_a_in - df_sim_results.T_a_o_sim_reg\n",
    "df_sim_results[\"delta_x_a_sim\"] =  df_sim_results.x_a_in - df_sim_results.x_a_o_sim_reg"
   ]
  },
  {
   "cell_type": "code",
   "execution_count": null,
   "id": "instant-bikini",
   "metadata": {},
   "outputs": [],
   "source": [
    "df_results_compare = df_sim_results[[\"delta_T_a_exp\", \"delta_x_a_exp\", \"delta_T_a_sim\", \"delta_x_a_sim\"]]"
   ]
  },
  {
   "cell_type": "code",
   "execution_count": null,
   "id": "handed-lincoln",
   "metadata": {},
   "outputs": [],
   "source": [
    "plot_compare_2_cols(df_results_compare.delta_T_a_exp, df_results_compare.delta_T_a_sim, deviation = 0.2, x_label = \"Änderung der Lufttemp. (Messung)\", y_label = \"Änderung der Lufttemp. (Simulation)\", save_fig=\"dempav_T\")"
   ]
  },
  {
   "cell_type": "code",
   "execution_count": null,
   "id": "valid-regulation",
   "metadata": {},
   "outputs": [],
   "source": [
    "plot_compare_2_cols(df_results_compare.delta_x_a_exp, df_results_compare.delta_x_a_sim, deviation=0.2, x_label = \"Änderung der Luftfeuchte (Messung)\", y_label = \"Änderung der Luftfeuchte (Simulation)\", save_fig=\"dempav_x\")"
   ]
  }
 ],
 "metadata": {
  "kernelspec": {
   "display_name": "Python 3",
   "language": "python",
   "name": "python3"
  },
  "language_info": {
   "codemirror_mode": {
    "name": "ipython",
    "version": 3
   },
   "file_extension": ".py",
   "mimetype": "text/x-python",
   "name": "python",
   "nbconvert_exporter": "python",
   "pygments_lexer": "ipython3",
   "version": "3.8.8"
  },
  "toc-autonumbering": true
 },
 "nbformat": 4,
 "nbformat_minor": 5
}
