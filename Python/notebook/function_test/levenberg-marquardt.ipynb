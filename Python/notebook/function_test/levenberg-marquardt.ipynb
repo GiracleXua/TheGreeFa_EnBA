{
 "cells": [
  {
   "cell_type": "code",
   "execution_count": 1,
   "id": "comparative-briefs",
   "metadata": {},
   "outputs": [],
   "source": [
    "from __future__ import division\n",
    "import os\n",
    "import sys\n",
    "import glob\n",
    "import matplotlib.pyplot as plt\n",
    "import numpy as np\n",
    "import pandas as pd\n",
    "%matplotlib inline\n",
    "%precision 4\n",
    "plt.style.use('ggplot')"
   ]
  },
  {
   "cell_type": "code",
   "execution_count": 5,
   "id": "useful-vampire",
   "metadata": {},
   "outputs": [],
   "source": [
    "from lmfit import minimize, Parameters, Parameter, report_fit\n",
    "from scipy.integrate import odeint"
   ]
  },
  {
   "cell_type": "code",
   "execution_count": 6,
   "id": "neither-expense",
   "metadata": {},
   "outputs": [],
   "source": [
    "def f(xs, t, ps):\n",
    "    \"\"\"Receptor synthesis-internalization model.\"\"\"\n",
    "    try:\n",
    "        a = ps['a'].value\n",
    "        b = ps['b'].value\n",
    "    except:\n",
    "        a, b = ps\n",
    "    x = xs\n",
    "\n",
    "    return a - b*x"
   ]
  },
  {
   "cell_type": "code",
   "execution_count": 7,
   "id": "secure-cyprus",
   "metadata": {},
   "outputs": [],
   "source": [
    "def g(t, x0, ps):\n",
    "    \"\"\"\n",
    "    Solution to the ODE x'(t) = f(t,x,k) with initial condition x(0) = x0\n",
    "    \"\"\"\n",
    "    x = odeint(f, x0, t, args=(ps,))\n",
    "    return x"
   ]
  },
  {
   "cell_type": "code",
   "execution_count": 8,
   "id": "animated-shooting",
   "metadata": {},
   "outputs": [],
   "source": [
    "def residual(ps, ts, data):\n",
    "    x0 = ps['x0'].value\n",
    "    model = g(ts, x0, ps)\n",
    "    return (model - data).ravel()"
   ]
  },
  {
   "cell_type": "code",
   "execution_count": 9,
   "id": "verified-andrew",
   "metadata": {},
   "outputs": [],
   "source": [
    "a = 2.0\n",
    "b = 0.5\n",
    "true_params = [a, b]\n",
    "x0 = 10.0\n",
    "\n",
    "t = np.linspace(0, 10, 10)\n",
    "data = g(t, x0, true_params)\n",
    "data += np.random.normal(size=data.shape)"
   ]
  },
  {
   "cell_type": "code",
   "execution_count": null,
   "id": "disabled-conducting",
   "metadata": {},
   "outputs": [],
   "source": []
  },
  {
   "cell_type": "code",
   "execution_count": 11,
   "id": "documentary-survival",
   "metadata": {},
   "outputs": [],
   "source": [
    "# set parameters incluing bounds\n",
    "params = Parameters()\n",
    "params.add('x0', value=float(data[0]), min=0, max=100)\n",
    "params.add('a', value= 1.0, min=0, max=10)\n",
    "params.add('b', value= 1.0, min=0, max=10)"
   ]
  },
  {
   "cell_type": "code",
   "execution_count": 13,
   "id": "brazilian-stations",
   "metadata": {},
   "outputs": [],
   "source": [
    "# fit model and find predicted values\n",
    "result = minimize(residual, params, args=(t, data), method='leastsq')\n",
    "final = data + result.residual.reshape(data.shape)"
   ]
  },
  {
   "cell_type": "code",
   "execution_count": 14,
   "id": "mighty-enough",
   "metadata": {},
   "outputs": [
    {
     "name": "stdout",
     "output_type": "stream",
     "text": [
      "[[Fit Statistics]]\n",
      "    # fitting method   = leastsq\n",
      "    # function evals   = 21\n",
      "    # data points      = 10\n",
      "    # variables        = 3\n",
      "    chi-square         = 7.46257034\n",
      "    reduced chi-square = 1.06608148\n",
      "    Akaike info crit   = 3.07314812\n",
      "    Bayesian info crit = 3.98090340\n",
      "[[Variables]]\n",
      "    x0:  10.3765122 +/- 1.02159084 (9.85%) (init = 10.38003)\n",
      "    a:   3.04856658 +/- 1.42240465 (46.66%) (init = 1)\n",
      "    b:   0.82280398 +/- 0.32018062 (38.91%) (init = 1)\n",
      "[[Correlations]] (unreported correlations are < 0.100)\n",
      "    C(a, b)  =  0.976\n",
      "    C(x0, b) =  0.348\n",
      "    C(x0, a) =  0.308\n"
     ]
    },
    {
     "data": {
      "image/png": "[encoded data removed]",
      "text/plain": [
       "<Figure size 432x288 with 1 Axes>"
      ]
     },
     "metadata": {},
     "output_type": "display_data"
    }
   ],
   "source": [
    "# plot data and fitted curves\n",
    "plt.plot(t, data, 'o')\n",
    "plt.plot(t, final, '--', linewidth=2, c='blue');\n",
    "\n",
    "# display fitted statistics\n",
    "report_fit(result)"
   ]
  }
 ],
 "metadata": {
  "kernelspec": {
   "display_name": "Python 3",
   "language": "python",
   "name": "python3"
  },
  "language_info": {
   "codemirror_mode": {
    "name": "ipython",
    "version": 3
   },
   "file_extension": ".py",
   "mimetype": "text/x-python",
   "name": "python",
   "nbconvert_exporter": "python",
   "pygments_lexer": "ipython3",
   "version": "3.8.8"
  }
 },
 "nbformat": 4,
 "nbformat_minor": 5
}
