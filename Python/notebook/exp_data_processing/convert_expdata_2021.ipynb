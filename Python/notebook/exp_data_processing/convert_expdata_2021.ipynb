{
 "cells": [
  {
   "cell_type": "code",
   "execution_count": 1,
   "metadata": {},
   "outputs": [],
   "source": [
    "import os, sys\n",
    "import pandas as pd\n",
    "import numpy as np\n",
    "\n",
    "import  CoolProp.CoolProp as CP\n",
    "from CoolProp.HumidAirProp import HAPropsSI\n",
    "import psychrolib as psylib\n",
    "psylib.SetUnitSystem(psylib.SI)"
   ]
  },
  {
   "cell_type": "code",
   "execution_count": 2,
   "metadata": {},
   "outputs": [],
   "source": [
    "sys.path.insert(0, os.path.join('.','..','..','calibration'))\n",
    "from thermodynamics import *\n",
    "\n",
    "# import code of mathieu\n",
    "import media_model_mgcl2 as model_mg\n",
    "import media_model_water as model_w"
   ]
  },
  {
   "cell_type": "code",
   "execution_count": 3,
   "metadata": {},
   "outputs": [],
   "source": [
    "def read_exp_data(data_path):\n",
    "    data = pd.read_csv(data_path, index_col=0)\n",
    "    return data"
   ]
  },
  {
   "cell_type": "markdown",
   "metadata": {
    "tags": []
   },
   "source": [
    "# **dempav conversion**"
   ]
  },
  {
   "cell_type": "code",
   "execution_count": 5,
   "metadata": {},
   "outputs": [],
   "source": [
    "df_exp_dempav_raw = read_exp_data(\"../../exp_data/raw/raw_data_20_Aug_converted.csv\")"
   ]
  },
  {
   "cell_type": "code",
   "execution_count": 6,
   "metadata": {},
   "outputs": [
    {
     "data": {
      "text/html": [
       "<div>\n",
       "<style scoped>\n",
       "    .dataframe tbody tr th:only-of-type {\n",
       "        vertical-align: middle;\n",
       "    }\n",
       "\n",
       "    .dataframe tbody tr th {\n",
       "        vertical-align: top;\n",
       "    }\n",
       "\n",
       "    .dataframe thead th {\n",
       "        text-align: right;\n",
       "    }\n",
       "</style>\n",
       "<table border=\"1\" class=\"dataframe\">\n",
       "  <thead>\n",
       "    <tr style=\"text-align: right;\">\n",
       "      <th></th>\n",
       "      <th>t_air_in</th>\n",
       "      <th>hr_air_in</th>\n",
       "      <th>m_air</th>\n",
       "      <th>t_des_in</th>\n",
       "      <th>x_des_in</th>\n",
       "      <th>m_des</th>\n",
       "      <th>t_air_out</th>\n",
       "      <th>hr_air_out</th>\n",
       "      <th>t_des_out</th>\n",
       "      <th>w_air_in</th>\n",
       "      <th>w_air_out</th>\n",
       "    </tr>\n",
       "  </thead>\n",
       "  <tbody>\n",
       "    <tr>\n",
       "      <th>1</th>\n",
       "      <td>298.02</td>\n",
       "      <td>48.26</td>\n",
       "      <td>0.018848</td>\n",
       "      <td>287.44</td>\n",
       "      <td>0.318302</td>\n",
       "      <td>0.102670</td>\n",
       "      <td>290.21</td>\n",
       "      <td>47.90</td>\n",
       "      <td>286.230</td>\n",
       "      <td>0.009439</td>\n",
       "      <td>0.005762</td>\n",
       "    </tr>\n",
       "    <tr>\n",
       "      <th>2</th>\n",
       "      <td>300.51</td>\n",
       "      <td>55.58</td>\n",
       "      <td>0.036283</td>\n",
       "      <td>292.20</td>\n",
       "      <td>0.318186</td>\n",
       "      <td>0.102670</td>\n",
       "      <td>294.81</td>\n",
       "      <td>54.06</td>\n",
       "      <td>290.092</td>\n",
       "      <td>0.012659</td>\n",
       "      <td>0.008699</td>\n",
       "    </tr>\n",
       "    <tr>\n",
       "      <th>3</th>\n",
       "      <td>298.02</td>\n",
       "      <td>46.07</td>\n",
       "      <td>0.032644</td>\n",
       "      <td>284.16</td>\n",
       "      <td>0.318572</td>\n",
       "      <td>0.102670</td>\n",
       "      <td>287.98</td>\n",
       "      <td>50.83</td>\n",
       "      <td>281.766</td>\n",
       "      <td>0.009005</td>\n",
       "      <td>0.005298</td>\n",
       "    </tr>\n",
       "    <tr>\n",
       "      <th>4</th>\n",
       "      <td>301.31</td>\n",
       "      <td>50.70</td>\n",
       "      <td>0.036150</td>\n",
       "      <td>290.94</td>\n",
       "      <td>0.318174</td>\n",
       "      <td>0.102669</td>\n",
       "      <td>293.69</td>\n",
       "      <td>52.19</td>\n",
       "      <td>288.468</td>\n",
       "      <td>0.012089</td>\n",
       "      <td>0.007829</td>\n",
       "    </tr>\n",
       "    <tr>\n",
       "      <th>5</th>\n",
       "      <td>299.87</td>\n",
       "      <td>42.59</td>\n",
       "      <td>0.045742</td>\n",
       "      <td>290.34</td>\n",
       "      <td>0.318171</td>\n",
       "      <td>0.102668</td>\n",
       "      <td>292.89</td>\n",
       "      <td>52.75</td>\n",
       "      <td>288.366</td>\n",
       "      <td>0.009293</td>\n",
       "      <td>0.007528</td>\n",
       "    </tr>\n",
       "  </tbody>\n",
       "</table>\n",
       "</div>"
      ],
      "text/plain": [
       "   t_air_in  hr_air_in     m_air  t_des_in  x_des_in     m_des  t_air_out  \\\n",
       "1    298.02      48.26  0.018848    287.44  0.318302  0.102670     290.21   \n",
       "2    300.51      55.58  0.036283    292.20  0.318186  0.102670     294.81   \n",
       "3    298.02      46.07  0.032644    284.16  0.318572  0.102670     287.98   \n",
       "4    301.31      50.70  0.036150    290.94  0.318174  0.102669     293.69   \n",
       "5    299.87      42.59  0.045742    290.34  0.318171  0.102668     292.89   \n",
       "\n",
       "   hr_air_out  t_des_out  w_air_in  w_air_out  \n",
       "1       47.90    286.230  0.009439   0.005762  \n",
       "2       54.06    290.092  0.012659   0.008699  \n",
       "3       50.83    281.766  0.009005   0.005298  \n",
       "4       52.19    288.468  0.012089   0.007829  \n",
       "5       52.75    288.366  0.009293   0.007528  "
      ]
     },
     "execution_count": 6,
     "metadata": {},
     "output_type": "execute_result"
    }
   ],
   "source": [
    "df_exp_dempav_raw.head()"
   ]
  },
  {
   "cell_type": "code",
   "execution_count": null,
   "metadata": {},
   "outputs": [],
   "source": [
    "convert_to_x = lambda T, hr: psylib.GetHumRatioFromRelHum(TDryBulb=T-273.15, RelHum=hr/100, Pressure=101325)\n",
    "df_exp_dempav_raw['x_a_in'] = np.vectorize(convert_to_x)(df_exp_dempav_raw.t_air_in, df_exp_dempav_raw.hr_air_in)\n",
    "df_exp_dempav_raw[\"x_a_o_exp\"] = np.vectorize(convert_to_x)(df_exp_dempav_raw.t_air_out, df_exp_dempav_raw.hr_air_out)\n",
    "df_raw_dempav['x_d_in_equ'] = np.vectorize(calc_x_des_equ)(df_raw_dempav.T_d_in, df_raw_dempav.xi_d_in)"
   ]
  },
  {
   "cell_type": "code",
   "execution_count": null,
   "metadata": {},
   "outputs": [],
   "source": [
    "df_exp_dempav = df_exp_dempav_raw.rename(columns={\"t_air_in\":\"T_a_in\", \\\n",
    "                                                  \"t_air_out\":\"T_a_o_exp\", \\\n",
    "                                                  \"t_des_in\":\"T_d_in\", \\\n",
    "                                                  \"t_des_out\":\"T_d_o_exp\", \\\n",
    "                                                 \"m_air\":\"m_a_in\", \\\n",
    "                                                 \"m_des\": \"m_d_in\", \\\n",
    "                                                 \"x_des_in\": \"xi_d_in\", \\\n",
    "                                                    })"
   ]
  },
  {
   "cell_type": "code",
   "execution_count": null,
   "metadata": {},
   "outputs": [],
   "source": [
    "# df_exp_dempav.to_excel(\"dempav_results_Aug_final_2020.xlsx\")"
   ]
  },
  {
   "cell_type": "markdown",
   "metadata": {
    "tags": []
   },
   "source": [
    "## calculate T_des_out using heat balance"
   ]
  },
  {
   "cell_type": "code",
   "execution_count": 23,
   "metadata": {},
   "outputs": [],
   "source": [
    "df_dempav = pd.read_excel(\"../../exp_data/archiv/dempav_results_Aug_final_2020.xlsx\", index_col=0)"
   ]
  },
  {
   "cell_type": "code",
   "execution_count": 24,
   "metadata": {},
   "outputs": [],
   "source": [
    "# df_dempav[\"m_a_cond\"] = df_dempav.m_a_in * (df_dempav.x_a_in - df_dempav.x_a_o_exp)\n",
    "df_dempav_plus = prepare_for_h_m(df_dempav.copy(), type_des=\"MgCl2\")"
   ]
  },
  {
   "cell_type": "code",
   "execution_count": 25,
   "metadata": {},
   "outputs": [],
   "source": [
    "calc_T_d_out_heat_balance = lambda Q, m, T_in, xi: Q/1000/(model_mg.cp_MgCl2(T_in, xi) * m) + T_in"
   ]
  },
  {
   "cell_type": "code",
   "execution_count": 26,
   "metadata": {},
   "outputs": [],
   "source": [
    "df_dempav_plus['T_d_o_exp'] = np.vectorize(calc_T_d_out_heat_balance)(df_dempav_plus.delta_Q_a,\n",
    "                                                                      df_dempav_plus.m_d_in,\n",
    "                                                                      df_dempav_plus.T_d_in, \n",
    "                                                                      df_dempav_plus.xi_d_in)"
   ]
  },
  {
   "cell_type": "code",
   "execution_count": 29,
   "metadata": {},
   "outputs": [],
   "source": [
    "df_dempav_output = df_dempav_plus[df_dempav.columns.to_numpy()]\n",
    "df_dempav_output.to_excel('../../exp_data/dempav_T_des_corrected.xlsx')"
   ]
  },
  {
   "cell_type": "code",
   "execution_count": null,
   "metadata": {},
   "outputs": [],
   "source": []
  },
  {
   "cell_type": "markdown",
   "metadata": {
    "tags": []
   },
   "source": [
    "# **Teststand**"
   ]
  },
  {
   "cell_type": "markdown",
   "metadata": {
    "heading_collapsed": "true",
    "tags": []
   },
   "source": [
    "## convert raw data table"
   ]
  },
  {
   "cell_type": "code",
   "execution_count": 4,
   "metadata": {},
   "outputs": [
    {
     "data": {
      "text/plain": [
       "(62, 16)"
      ]
     },
     "execution_count": 4,
     "metadata": {},
     "output_type": "execute_result"
    }
   ],
   "source": [
    "df_raw = pd.read_excel(\"../../exp_data/raw/teststand_results_old.xlsx\", index_col=0, header=[0,1])\n",
    "df_raw.columns = df_raw.columns.droplevel(1)\n",
    "df_raw.shape"
   ]
  },
  {
   "cell_type": "code",
   "execution_count": 5,
   "metadata": {},
   "outputs": [],
   "source": [
    "df_raw.m_a_in = df_raw.V_a_in * np.vectorize(get_rho_dry)(df_raw.T_a_in+273.15, df_raw.hr_air_in/100) / 3600"
   ]
  },
  {
   "cell_type": "code",
   "execution_count": 6,
   "metadata": {},
   "outputs": [],
   "source": [
    "df_raw.x_a_in = np.vectorize(get_x)(df_raw.T_a_in+273.15, df_raw.hr_air_in/100)"
   ]
  },
  {
   "cell_type": "code",
   "execution_count": 7,
   "metadata": {},
   "outputs": [],
   "source": [
    "df_raw.x_a_o_exp = np.vectorize(get_x)(df_raw.T_a_o_exp+273.15, df_raw.hr_air_out/100)"
   ]
  },
  {
   "cell_type": "code",
   "execution_count": 8,
   "metadata": {},
   "outputs": [],
   "source": [
    "df_raw.xi_d_in = np.vectorize(model_mg.xi_MgCl2)(df_raw.T_a_in+273.15, df_raw.rho_d_in)"
   ]
  },
  {
   "cell_type": "code",
   "execution_count": 9,
   "metadata": {},
   "outputs": [],
   "source": [
    "df_raw.T_a_in = df_raw.T_a_in + 273.15\n",
    "df_raw.T_d_in = df_raw.T_d_in + 273.15\n",
    "df_raw.T_a_o_exp = df_raw.T_a_o_exp + 273.15\n",
    "df_raw.T_d_o_exp = df_raw.T_d_o_exp + 273.15"
   ]
  },
  {
   "cell_type": "code",
   "execution_count": 10,
   "metadata": {},
   "outputs": [],
   "source": [
    "df_raw.m_d_in = df_raw.V_d_in/1000/60 * df_raw.rho_d_in"
   ]
  },
  {
   "cell_type": "code",
   "execution_count": 11,
   "metadata": {},
   "outputs": [],
   "source": [
    "df_raw['x_d_in_equ'] = np.vectorize(calc_x_des_equ)(df_raw.T_d_in, df_raw.xi_d_in)"
   ]
  },
  {
   "cell_type": "code",
   "execution_count": 12,
   "metadata": {},
   "outputs": [],
   "source": [
    "df_raw.drop(columns=['w_air_in', 'w_air_out'], inplace = True)"
   ]
  },
  {
   "cell_type": "code",
   "execution_count": 13,
   "metadata": {},
   "outputs": [
    {
     "data": {
      "text/html": [
       "<div>\n",
       "<style scoped>\n",
       "    .dataframe tbody tr th:only-of-type {\n",
       "        vertical-align: middle;\n",
       "    }\n",
       "\n",
       "    .dataframe tbody tr th {\n",
       "        vertical-align: top;\n",
       "    }\n",
       "\n",
       "    .dataframe thead th {\n",
       "        text-align: right;\n",
       "    }\n",
       "</style>\n",
       "<table border=\"1\" class=\"dataframe\">\n",
       "  <thead>\n",
       "    <tr style=\"text-align: right;\">\n",
       "      <th></th>\n",
       "      <th>T_a_in</th>\n",
       "      <th>hr_air_in</th>\n",
       "      <th>V_a_in</th>\n",
       "      <th>m_a_in</th>\n",
       "      <th>T_d_in</th>\n",
       "      <th>xi_d_in</th>\n",
       "      <th>V_d_in</th>\n",
       "      <th>rho_d_in</th>\n",
       "      <th>m_d_in</th>\n",
       "      <th>T_a_o_exp</th>\n",
       "      <th>hr_air_out</th>\n",
       "      <th>T_d_o_exp</th>\n",
       "      <th>x_a_in</th>\n",
       "      <th>x_a_o_exp</th>\n",
       "      <th>x_d_in_equ</th>\n",
       "    </tr>\n",
       "  </thead>\n",
       "  <tbody>\n",
       "    <tr>\n",
       "      <th>0</th>\n",
       "      <td>297.04</td>\n",
       "      <td>87.20</td>\n",
       "      <td>46.52</td>\n",
       "      <td>0.014969</td>\n",
       "      <td>298.21</td>\n",
       "      <td>0.313764</td>\n",
       "      <td>1.31</td>\n",
       "      <td>1292.0</td>\n",
       "      <td>0.028209</td>\n",
       "      <td>301.27</td>\n",
       "      <td>51.24</td>\n",
       "      <td>298.84</td>\n",
       "      <td>0.016362</td>\n",
       "      <td>0.012271</td>\n",
       "      <td>0.009253</td>\n",
       "    </tr>\n",
       "    <tr>\n",
       "      <th>1</th>\n",
       "      <td>299.92</td>\n",
       "      <td>79.81</td>\n",
       "      <td>47.22</td>\n",
       "      <td>0.015014</td>\n",
       "      <td>300.91</td>\n",
       "      <td>0.311185</td>\n",
       "      <td>1.28</td>\n",
       "      <td>1289.0</td>\n",
       "      <td>0.027499</td>\n",
       "      <td>303.40</td>\n",
       "      <td>50.93</td>\n",
       "      <td>301.59</td>\n",
       "      <td>0.017815</td>\n",
       "      <td>0.013828</td>\n",
       "      <td>0.011082</td>\n",
       "    </tr>\n",
       "    <tr>\n",
       "      <th>2</th>\n",
       "      <td>299.94</td>\n",
       "      <td>83.82</td>\n",
       "      <td>19.50</td>\n",
       "      <td>0.006191</td>\n",
       "      <td>300.29</td>\n",
       "      <td>0.314032</td>\n",
       "      <td>1.18</td>\n",
       "      <td>1292.0</td>\n",
       "      <td>0.025409</td>\n",
       "      <td>303.52</td>\n",
       "      <td>49.44</td>\n",
       "      <td>300.98</td>\n",
       "      <td>0.018759</td>\n",
       "      <td>0.013509</td>\n",
       "      <td>0.010496</td>\n",
       "    </tr>\n",
       "    <tr>\n",
       "      <th>3</th>\n",
       "      <td>300.49</td>\n",
       "      <td>75.69</td>\n",
       "      <td>18.49</td>\n",
       "      <td>0.005871</td>\n",
       "      <td>301.85</td>\n",
       "      <td>0.312199</td>\n",
       "      <td>0.75</td>\n",
       "      <td>1290.0</td>\n",
       "      <td>0.016125</td>\n",
       "      <td>304.04</td>\n",
       "      <td>46.88</td>\n",
       "      <td>302.48</td>\n",
       "      <td>0.017460</td>\n",
       "      <td>0.013190</td>\n",
       "      <td>0.011662</td>\n",
       "    </tr>\n",
       "    <tr>\n",
       "      <th>4</th>\n",
       "      <td>301.58</td>\n",
       "      <td>86.59</td>\n",
       "      <td>18.90</td>\n",
       "      <td>0.005943</td>\n",
       "      <td>303.40</td>\n",
       "      <td>0.312333</td>\n",
       "      <td>0.22</td>\n",
       "      <td>1290.0</td>\n",
       "      <td>0.004730</td>\n",
       "      <td>306.72</td>\n",
       "      <td>49.14</td>\n",
       "      <td>304.58</td>\n",
       "      <td>0.021418</td>\n",
       "      <td>0.016161</td>\n",
       "      <td>0.012790</td>\n",
       "    </tr>\n",
       "  </tbody>\n",
       "</table>\n",
       "</div>"
      ],
      "text/plain": [
       "   T_a_in  hr_air_in  V_a_in    m_a_in  T_d_in   xi_d_in  V_d_in  rho_d_in  \\\n",
       "0  297.04      87.20   46.52  0.014969  298.21  0.313764    1.31    1292.0   \n",
       "1  299.92      79.81   47.22  0.015014  300.91  0.311185    1.28    1289.0   \n",
       "2  299.94      83.82   19.50  0.006191  300.29  0.314032    1.18    1292.0   \n",
       "3  300.49      75.69   18.49  0.005871  301.85  0.312199    0.75    1290.0   \n",
       "4  301.58      86.59   18.90  0.005943  303.40  0.312333    0.22    1290.0   \n",
       "\n",
       "     m_d_in  T_a_o_exp  hr_air_out  T_d_o_exp    x_a_in  x_a_o_exp  x_d_in_equ  \n",
       "0  0.028209     301.27       51.24     298.84  0.016362   0.012271    0.009253  \n",
       "1  0.027499     303.40       50.93     301.59  0.017815   0.013828    0.011082  \n",
       "2  0.025409     303.52       49.44     300.98  0.018759   0.013509    0.010496  \n",
       "3  0.016125     304.04       46.88     302.48  0.017460   0.013190    0.011662  \n",
       "4  0.004730     306.72       49.14     304.58  0.021418   0.016161    0.012790  "
      ]
     },
     "execution_count": 13,
     "metadata": {},
     "output_type": "execute_result"
    }
   ],
   "source": [
    "df_raw.head()"
   ]
  },
  {
   "cell_type": "raw",
   "metadata": {},
   "source": [
    "df_raw.to_excel('teststand_with_x_d_in.xlsx')"
   ]
  },
  {
   "cell_type": "markdown",
   "metadata": {
    "tags": []
   },
   "source": [
    "## split to absorption and regeneration"
   ]
  },
  {
   "cell_type": "code",
   "execution_count": 14,
   "metadata": {},
   "outputs": [
    {
     "data": {
      "text/html": [
       "<div>\n",
       "<style scoped>\n",
       "    .dataframe tbody tr th:only-of-type {\n",
       "        vertical-align: middle;\n",
       "    }\n",
       "\n",
       "    .dataframe tbody tr th {\n",
       "        vertical-align: top;\n",
       "    }\n",
       "\n",
       "    .dataframe thead th {\n",
       "        text-align: right;\n",
       "    }\n",
       "</style>\n",
       "<table border=\"1\" class=\"dataframe\">\n",
       "  <thead>\n",
       "    <tr style=\"text-align: right;\">\n",
       "      <th></th>\n",
       "      <th>T_a_in</th>\n",
       "      <th>hr_air_in</th>\n",
       "      <th>V_a_in</th>\n",
       "      <th>m_a_in</th>\n",
       "      <th>T_d_in</th>\n",
       "      <th>xi_d_in</th>\n",
       "      <th>V_d_in</th>\n",
       "      <th>rho_d_in</th>\n",
       "      <th>m_d_in</th>\n",
       "      <th>T_a_o_exp</th>\n",
       "      <th>hr_air_out</th>\n",
       "      <th>T_d_o_exp</th>\n",
       "      <th>x_a_in</th>\n",
       "      <th>x_a_o_exp</th>\n",
       "      <th>x_d_in_equ</th>\n",
       "    </tr>\n",
       "  </thead>\n",
       "  <tbody>\n",
       "    <tr>\n",
       "      <th>0</th>\n",
       "      <td>297.04</td>\n",
       "      <td>87.20</td>\n",
       "      <td>46.52</td>\n",
       "      <td>0.014969</td>\n",
       "      <td>298.21</td>\n",
       "      <td>0.313764</td>\n",
       "      <td>1.31</td>\n",
       "      <td>1292.0</td>\n",
       "      <td>0.028209</td>\n",
       "      <td>301.27</td>\n",
       "      <td>51.24</td>\n",
       "      <td>298.84</td>\n",
       "      <td>0.016362</td>\n",
       "      <td>0.012271</td>\n",
       "      <td>0.009253</td>\n",
       "    </tr>\n",
       "    <tr>\n",
       "      <th>1</th>\n",
       "      <td>299.92</td>\n",
       "      <td>79.81</td>\n",
       "      <td>47.22</td>\n",
       "      <td>0.015014</td>\n",
       "      <td>300.91</td>\n",
       "      <td>0.311185</td>\n",
       "      <td>1.28</td>\n",
       "      <td>1289.0</td>\n",
       "      <td>0.027499</td>\n",
       "      <td>303.40</td>\n",
       "      <td>50.93</td>\n",
       "      <td>301.59</td>\n",
       "      <td>0.017815</td>\n",
       "      <td>0.013828</td>\n",
       "      <td>0.011082</td>\n",
       "    </tr>\n",
       "    <tr>\n",
       "      <th>2</th>\n",
       "      <td>299.94</td>\n",
       "      <td>83.82</td>\n",
       "      <td>19.50</td>\n",
       "      <td>0.006191</td>\n",
       "      <td>300.29</td>\n",
       "      <td>0.314032</td>\n",
       "      <td>1.18</td>\n",
       "      <td>1292.0</td>\n",
       "      <td>0.025409</td>\n",
       "      <td>303.52</td>\n",
       "      <td>49.44</td>\n",
       "      <td>300.98</td>\n",
       "      <td>0.018759</td>\n",
       "      <td>0.013509</td>\n",
       "      <td>0.010496</td>\n",
       "    </tr>\n",
       "    <tr>\n",
       "      <th>3</th>\n",
       "      <td>300.49</td>\n",
       "      <td>75.69</td>\n",
       "      <td>18.49</td>\n",
       "      <td>0.005871</td>\n",
       "      <td>301.85</td>\n",
       "      <td>0.312199</td>\n",
       "      <td>0.75</td>\n",
       "      <td>1290.0</td>\n",
       "      <td>0.016125</td>\n",
       "      <td>304.04</td>\n",
       "      <td>46.88</td>\n",
       "      <td>302.48</td>\n",
       "      <td>0.017460</td>\n",
       "      <td>0.013190</td>\n",
       "      <td>0.011662</td>\n",
       "    </tr>\n",
       "    <tr>\n",
       "      <th>4</th>\n",
       "      <td>301.58</td>\n",
       "      <td>86.59</td>\n",
       "      <td>18.90</td>\n",
       "      <td>0.005943</td>\n",
       "      <td>303.40</td>\n",
       "      <td>0.312333</td>\n",
       "      <td>0.22</td>\n",
       "      <td>1290.0</td>\n",
       "      <td>0.004730</td>\n",
       "      <td>306.72</td>\n",
       "      <td>49.14</td>\n",
       "      <td>304.58</td>\n",
       "      <td>0.021418</td>\n",
       "      <td>0.016161</td>\n",
       "      <td>0.012790</td>\n",
       "    </tr>\n",
       "  </tbody>\n",
       "</table>\n",
       "</div>"
      ],
      "text/plain": [
       "   T_a_in  hr_air_in  V_a_in    m_a_in  T_d_in   xi_d_in  V_d_in  rho_d_in  \\\n",
       "0  297.04      87.20   46.52  0.014969  298.21  0.313764    1.31    1292.0   \n",
       "1  299.92      79.81   47.22  0.015014  300.91  0.311185    1.28    1289.0   \n",
       "2  299.94      83.82   19.50  0.006191  300.29  0.314032    1.18    1292.0   \n",
       "3  300.49      75.69   18.49  0.005871  301.85  0.312199    0.75    1290.0   \n",
       "4  301.58      86.59   18.90  0.005943  303.40  0.312333    0.22    1290.0   \n",
       "\n",
       "     m_d_in  T_a_o_exp  hr_air_out  T_d_o_exp    x_a_in  x_a_o_exp  x_d_in_equ  \n",
       "0  0.028209     301.27       51.24     298.84  0.016362   0.012271    0.009253  \n",
       "1  0.027499     303.40       50.93     301.59  0.017815   0.013828    0.011082  \n",
       "2  0.025409     303.52       49.44     300.98  0.018759   0.013509    0.010496  \n",
       "3  0.016125     304.04       46.88     302.48  0.017460   0.013190    0.011662  \n",
       "4  0.004730     306.72       49.14     304.58  0.021418   0.016161    0.012790  "
      ]
     },
     "execution_count": 14,
     "metadata": {},
     "output_type": "execute_result"
    }
   ],
   "source": [
    "df_raw.head()"
   ]
  },
  {
   "cell_type": "code",
   "execution_count": 17,
   "metadata": {},
   "outputs": [
    {
     "data": {
      "text/plain": [
       "(30, 15)"
      ]
     },
     "execution_count": 17,
     "metadata": {},
     "output_type": "execute_result"
    }
   ],
   "source": [
    "df_raw_cool = df_raw.query('T_a_in - T_d_in>5')\n",
    "df_raw_cool.shape"
   ]
  },
  {
   "cell_type": "code",
   "execution_count": 28,
   "metadata": {},
   "outputs": [
    {
     "data": {
      "text/plain": [
       "(58, 15)"
      ]
     },
     "execution_count": 28,
     "metadata": {},
     "output_type": "execute_result"
    }
   ],
   "source": [
    "df_raw_absorption = df_raw.query('x_a_in > x_a_o_exp')\n",
    "df_raw_absorption.shape"
   ]
  },
  {
   "cell_type": "code",
   "execution_count": 36,
   "metadata": {},
   "outputs": [
    {
     "data": {
      "text/html": [
       "<div>\n",
       "<style scoped>\n",
       "    .dataframe tbody tr th:only-of-type {\n",
       "        vertical-align: middle;\n",
       "    }\n",
       "\n",
       "    .dataframe tbody tr th {\n",
       "        vertical-align: top;\n",
       "    }\n",
       "\n",
       "    .dataframe thead th {\n",
       "        text-align: right;\n",
       "    }\n",
       "</style>\n",
       "<table border=\"1\" class=\"dataframe\">\n",
       "  <thead>\n",
       "    <tr style=\"text-align: right;\">\n",
       "      <th></th>\n",
       "      <th>T_a_in</th>\n",
       "      <th>hr_air_in</th>\n",
       "      <th>V_a_in</th>\n",
       "      <th>m_a_in</th>\n",
       "      <th>T_d_in</th>\n",
       "      <th>xi_d_in</th>\n",
       "      <th>V_d_in</th>\n",
       "      <th>rho_d_in</th>\n",
       "      <th>m_d_in</th>\n",
       "      <th>T_a_o_exp</th>\n",
       "      <th>hr_air_out</th>\n",
       "      <th>T_d_o_exp</th>\n",
       "      <th>x_a_in</th>\n",
       "      <th>x_a_o_exp</th>\n",
       "      <th>x_d_in_equ</th>\n",
       "    </tr>\n",
       "  </thead>\n",
       "  <tbody>\n",
       "    <tr>\n",
       "      <th>17</th>\n",
       "      <td>304.65</td>\n",
       "      <td>12.55</td>\n",
       "      <td>69.81</td>\n",
       "      <td>0.022346</td>\n",
       "      <td>309.03</td>\n",
       "      <td>0.310888</td>\n",
       "      <td>1.31</td>\n",
       "      <td>1288.0</td>\n",
       "      <td>0.028121</td>\n",
       "      <td>302.62</td>\n",
       "      <td>28.18</td>\n",
       "      <td>307.20</td>\n",
       "      <td>0.003601</td>\n",
       "      <td>0.007240</td>\n",
       "      <td>0.017959</td>\n",
       "    </tr>\n",
       "    <tr>\n",
       "      <th>31</th>\n",
       "      <td>308.69</td>\n",
       "      <td>20.16</td>\n",
       "      <td>62.51</td>\n",
       "      <td>0.019631</td>\n",
       "      <td>311.41</td>\n",
       "      <td>0.314454</td>\n",
       "      <td>1.34</td>\n",
       "      <td>1291.0</td>\n",
       "      <td>0.028832</td>\n",
       "      <td>306.34</td>\n",
       "      <td>32.53</td>\n",
       "      <td>310.19</td>\n",
       "      <td>0.007294</td>\n",
       "      <td>0.010378</td>\n",
       "      <td>0.020168</td>\n",
       "    </tr>\n",
       "    <tr>\n",
       "      <th>32</th>\n",
       "      <td>306.20</td>\n",
       "      <td>32.67</td>\n",
       "      <td>62.51</td>\n",
       "      <td>0.019696</td>\n",
       "      <td>311.06</td>\n",
       "      <td>0.313041</td>\n",
       "      <td>1.24</td>\n",
       "      <td>1290.0</td>\n",
       "      <td>0.026660</td>\n",
       "      <td>307.20</td>\n",
       "      <td>38.06</td>\n",
       "      <td>308.45</td>\n",
       "      <td>0.010340</td>\n",
       "      <td>0.012789</td>\n",
       "      <td>0.019933</td>\n",
       "    </tr>\n",
       "    <tr>\n",
       "      <th>38</th>\n",
       "      <td>309.92</td>\n",
       "      <td>13.89</td>\n",
       "      <td>78.85</td>\n",
       "      <td>0.024740</td>\n",
       "      <td>309.67</td>\n",
       "      <td>0.309998</td>\n",
       "      <td>1.34</td>\n",
       "      <td>1286.0</td>\n",
       "      <td>0.028721</td>\n",
       "      <td>306.03</td>\n",
       "      <td>28.63</td>\n",
       "      <td>308.28</td>\n",
       "      <td>0.005360</td>\n",
       "      <td>0.008956</td>\n",
       "      <td>0.018731</td>\n",
       "    </tr>\n",
       "  </tbody>\n",
       "</table>\n",
       "</div>"
      ],
      "text/plain": [
       "    T_a_in  hr_air_in  V_a_in    m_a_in  T_d_in   xi_d_in  V_d_in  rho_d_in  \\\n",
       "17  304.65      12.55   69.81  0.022346  309.03  0.310888    1.31    1288.0   \n",
       "31  308.69      20.16   62.51  0.019631  311.41  0.314454    1.34    1291.0   \n",
       "32  306.20      32.67   62.51  0.019696  311.06  0.313041    1.24    1290.0   \n",
       "38  309.92      13.89   78.85  0.024740  309.67  0.309998    1.34    1286.0   \n",
       "\n",
       "      m_d_in  T_a_o_exp  hr_air_out  T_d_o_exp    x_a_in  x_a_o_exp  \\\n",
       "17  0.028121     302.62       28.18     307.20  0.003601   0.007240   \n",
       "31  0.028832     306.34       32.53     310.19  0.007294   0.010378   \n",
       "32  0.026660     307.20       38.06     308.45  0.010340   0.012789   \n",
       "38  0.028721     306.03       28.63     308.28  0.005360   0.008956   \n",
       "\n",
       "    x_d_in_equ  \n",
       "17    0.017959  \n",
       "31    0.020168  \n",
       "32    0.019933  \n",
       "38    0.018731  "
      ]
     },
     "execution_count": 36,
     "metadata": {},
     "output_type": "execute_result"
    }
   ],
   "source": [
    "df_raw_regeneration"
   ]
  },
  {
   "cell_type": "code",
   "execution_count": 30,
   "metadata": {},
   "outputs": [
    {
     "data": {
      "text/plain": [
       "(4, 15)"
      ]
     },
     "execution_count": 30,
     "metadata": {},
     "output_type": "execute_result"
    }
   ],
   "source": [
    "df_raw_regeneration = df_raw.query('x_a_in < x_a_o_exp')\n",
    "df_raw_regeneration.shape"
   ]
  },
  {
   "cell_type": "code",
   "execution_count": null,
   "metadata": {},
   "outputs": [],
   "source": []
  },
  {
   "cell_type": "code",
   "execution_count": 33,
   "metadata": {},
   "outputs": [
    {
     "data": {
      "text/html": [
       "<div>\n",
       "<style scoped>\n",
       "    .dataframe tbody tr th:only-of-type {\n",
       "        vertical-align: middle;\n",
       "    }\n",
       "\n",
       "    .dataframe tbody tr th {\n",
       "        vertical-align: top;\n",
       "    }\n",
       "\n",
       "    .dataframe thead th {\n",
       "        text-align: right;\n",
       "    }\n",
       "</style>\n",
       "<table border=\"1\" class=\"dataframe\">\n",
       "  <thead>\n",
       "    <tr style=\"text-align: right;\">\n",
       "      <th></th>\n",
       "      <th>T_a_in</th>\n",
       "      <th>hr_air_in</th>\n",
       "      <th>V_a_in</th>\n",
       "      <th>m_a_in</th>\n",
       "      <th>T_d_in</th>\n",
       "      <th>xi_d_in</th>\n",
       "      <th>V_d_in</th>\n",
       "      <th>rho_d_in</th>\n",
       "      <th>m_d_in</th>\n",
       "      <th>T_a_o_exp</th>\n",
       "      <th>hr_air_out</th>\n",
       "      <th>T_d_o_exp</th>\n",
       "      <th>x_a_in</th>\n",
       "      <th>x_a_o_exp</th>\n",
       "      <th>x_d_in_equ</th>\n",
       "    </tr>\n",
       "  </thead>\n",
       "  <tbody>\n",
       "    <tr>\n",
       "      <th>17</th>\n",
       "      <td>304.65</td>\n",
       "      <td>12.55</td>\n",
       "      <td>69.81</td>\n",
       "      <td>0.022346</td>\n",
       "      <td>309.03</td>\n",
       "      <td>0.310888</td>\n",
       "      <td>1.31</td>\n",
       "      <td>1288.0</td>\n",
       "      <td>0.028121</td>\n",
       "      <td>302.62</td>\n",
       "      <td>28.18</td>\n",
       "      <td>307.20</td>\n",
       "      <td>0.003601</td>\n",
       "      <td>0.007240</td>\n",
       "      <td>0.017959</td>\n",
       "    </tr>\n",
       "    <tr>\n",
       "      <th>31</th>\n",
       "      <td>308.69</td>\n",
       "      <td>20.16</td>\n",
       "      <td>62.51</td>\n",
       "      <td>0.019631</td>\n",
       "      <td>311.41</td>\n",
       "      <td>0.314454</td>\n",
       "      <td>1.34</td>\n",
       "      <td>1291.0</td>\n",
       "      <td>0.028832</td>\n",
       "      <td>306.34</td>\n",
       "      <td>32.53</td>\n",
       "      <td>310.19</td>\n",
       "      <td>0.007294</td>\n",
       "      <td>0.010378</td>\n",
       "      <td>0.020168</td>\n",
       "    </tr>\n",
       "    <tr>\n",
       "      <th>32</th>\n",
       "      <td>306.20</td>\n",
       "      <td>32.67</td>\n",
       "      <td>62.51</td>\n",
       "      <td>0.019696</td>\n",
       "      <td>311.06</td>\n",
       "      <td>0.313041</td>\n",
       "      <td>1.24</td>\n",
       "      <td>1290.0</td>\n",
       "      <td>0.026660</td>\n",
       "      <td>307.20</td>\n",
       "      <td>38.06</td>\n",
       "      <td>308.45</td>\n",
       "      <td>0.010340</td>\n",
       "      <td>0.012789</td>\n",
       "      <td>0.019933</td>\n",
       "    </tr>\n",
       "    <tr>\n",
       "      <th>38</th>\n",
       "      <td>309.92</td>\n",
       "      <td>13.89</td>\n",
       "      <td>78.85</td>\n",
       "      <td>0.024740</td>\n",
       "      <td>309.67</td>\n",
       "      <td>0.309998</td>\n",
       "      <td>1.34</td>\n",
       "      <td>1286.0</td>\n",
       "      <td>0.028721</td>\n",
       "      <td>306.03</td>\n",
       "      <td>28.63</td>\n",
       "      <td>308.28</td>\n",
       "      <td>0.005360</td>\n",
       "      <td>0.008956</td>\n",
       "      <td>0.018731</td>\n",
       "    </tr>\n",
       "  </tbody>\n",
       "</table>\n",
       "</div>"
      ],
      "text/plain": [
       "    T_a_in  hr_air_in  V_a_in    m_a_in  T_d_in   xi_d_in  V_d_in  rho_d_in  \\\n",
       "17  304.65      12.55   69.81  0.022346  309.03  0.310888    1.31    1288.0   \n",
       "31  308.69      20.16   62.51  0.019631  311.41  0.314454    1.34    1291.0   \n",
       "32  306.20      32.67   62.51  0.019696  311.06  0.313041    1.24    1290.0   \n",
       "38  309.92      13.89   78.85  0.024740  309.67  0.309998    1.34    1286.0   \n",
       "\n",
       "      m_d_in  T_a_o_exp  hr_air_out  T_d_o_exp    x_a_in  x_a_o_exp  \\\n",
       "17  0.028121     302.62       28.18     307.20  0.003601   0.007240   \n",
       "31  0.028832     306.34       32.53     310.19  0.007294   0.010378   \n",
       "32  0.026660     307.20       38.06     308.45  0.010340   0.012789   \n",
       "38  0.028721     306.03       28.63     308.28  0.005360   0.008956   \n",
       "\n",
       "    x_d_in_equ  \n",
       "17    0.017959  \n",
       "31    0.020168  \n",
       "32    0.019933  \n",
       "38    0.018731  "
      ]
     },
     "execution_count": 33,
     "metadata": {},
     "output_type": "execute_result"
    }
   ],
   "source": [
    "df_raw.query('x_d_in_equ>x_a_in')"
   ]
  },
  {
   "cell_type": "raw",
   "metadata": {},
   "source": [
    "df_raw_cool.to_excel(\"teststand_output_cool.xlsx\")"
   ]
  },
  {
   "cell_type": "code",
   "execution_count": 41,
   "metadata": {},
   "outputs": [],
   "source": [
    "df_raw_heat = df_raw.query('T_d_in-T_a_in > 2')"
   ]
  },
  {
   "cell_type": "code",
   "execution_count": 42,
   "metadata": {},
   "outputs": [
    {
     "data": {
      "text/html": [
       "<div>\n",
       "<style scoped>\n",
       "    .dataframe tbody tr th:only-of-type {\n",
       "        vertical-align: middle;\n",
       "    }\n",
       "\n",
       "    .dataframe tbody tr th {\n",
       "        vertical-align: top;\n",
       "    }\n",
       "\n",
       "    .dataframe thead th {\n",
       "        text-align: right;\n",
       "    }\n",
       "</style>\n",
       "<table border=\"1\" class=\"dataframe\">\n",
       "  <thead>\n",
       "    <tr style=\"text-align: right;\">\n",
       "      <th></th>\n",
       "      <th>T_a_in</th>\n",
       "      <th>hr_air_in</th>\n",
       "      <th>V_a_in</th>\n",
       "      <th>m_a_in</th>\n",
       "      <th>T_d_in</th>\n",
       "      <th>xi_d_in</th>\n",
       "      <th>V_d_in</th>\n",
       "      <th>rho_d_in</th>\n",
       "      <th>m_d_in</th>\n",
       "      <th>T_a_o_exp</th>\n",
       "      <th>hr_air_out</th>\n",
       "      <th>T_d_o_exp</th>\n",
       "      <th>x_a_in</th>\n",
       "      <th>x_a_o_exp</th>\n",
       "      <th>x_d_in_equ</th>\n",
       "    </tr>\n",
       "  </thead>\n",
       "  <tbody>\n",
       "    <tr>\n",
       "      <th>11</th>\n",
       "      <td>300.22</td>\n",
       "      <td>79.59</td>\n",
       "      <td>16.35</td>\n",
       "      <td>0.005191</td>\n",
       "      <td>304.63</td>\n",
       "      <td>0.299788</td>\n",
       "      <td>1.44</td>\n",
       "      <td>1277.0</td>\n",
       "      <td>0.030648</td>\n",
       "      <td>304.73</td>\n",
       "      <td>47.42</td>\n",
       "      <td>304.85</td>\n",
       "      <td>0.018089</td>\n",
       "      <td>0.013891</td>\n",
       "      <td>0.014773</td>\n",
       "    </tr>\n",
       "    <tr>\n",
       "      <th>12</th>\n",
       "      <td>300.80</td>\n",
       "      <td>73.22</td>\n",
       "      <td>16.45</td>\n",
       "      <td>0.005220</td>\n",
       "      <td>304.67</td>\n",
       "      <td>0.299861</td>\n",
       "      <td>0.68</td>\n",
       "      <td>1277.0</td>\n",
       "      <td>0.014473</td>\n",
       "      <td>304.59</td>\n",
       "      <td>47.67</td>\n",
       "      <td>304.97</td>\n",
       "      <td>0.017193</td>\n",
       "      <td>0.013853</td>\n",
       "      <td>0.014802</td>\n",
       "    </tr>\n",
       "    <tr>\n",
       "      <th>17</th>\n",
       "      <td>304.65</td>\n",
       "      <td>12.55</td>\n",
       "      <td>69.81</td>\n",
       "      <td>0.022346</td>\n",
       "      <td>309.03</td>\n",
       "      <td>0.310888</td>\n",
       "      <td>1.31</td>\n",
       "      <td>1288.0</td>\n",
       "      <td>0.028121</td>\n",
       "      <td>302.62</td>\n",
       "      <td>28.18</td>\n",
       "      <td>307.20</td>\n",
       "      <td>0.003601</td>\n",
       "      <td>0.007240</td>\n",
       "      <td>0.017959</td>\n",
       "    </tr>\n",
       "    <tr>\n",
       "      <th>21</th>\n",
       "      <td>301.47</td>\n",
       "      <td>82.73</td>\n",
       "      <td>20.41</td>\n",
       "      <td>0.006431</td>\n",
       "      <td>303.90</td>\n",
       "      <td>0.311371</td>\n",
       "      <td>0.16</td>\n",
       "      <td>1289.0</td>\n",
       "      <td>0.003437</td>\n",
       "      <td>306.62</td>\n",
       "      <td>47.75</td>\n",
       "      <td>305.30</td>\n",
       "      <td>0.020298</td>\n",
       "      <td>0.015602</td>\n",
       "      <td>0.013252</td>\n",
       "    </tr>\n",
       "    <tr>\n",
       "      <th>22</th>\n",
       "      <td>302.13</td>\n",
       "      <td>84.09</td>\n",
       "      <td>31.33</td>\n",
       "      <td>0.009833</td>\n",
       "      <td>304.40</td>\n",
       "      <td>0.311458</td>\n",
       "      <td>0.16</td>\n",
       "      <td>1289.0</td>\n",
       "      <td>0.003437</td>\n",
       "      <td>307.41</td>\n",
       "      <td>49.43</td>\n",
       "      <td>306.09</td>\n",
       "      <td>0.021476</td>\n",
       "      <td>0.016914</td>\n",
       "      <td>0.013645</td>\n",
       "    </tr>\n",
       "    <tr>\n",
       "      <th>23</th>\n",
       "      <td>301.04</td>\n",
       "      <td>87.26</td>\n",
       "      <td>30.88</td>\n",
       "      <td>0.009735</td>\n",
       "      <td>304.84</td>\n",
       "      <td>0.309419</td>\n",
       "      <td>0.37</td>\n",
       "      <td>1287.0</td>\n",
       "      <td>0.007936</td>\n",
       "      <td>306.48</td>\n",
       "      <td>50.26</td>\n",
       "      <td>306.78</td>\n",
       "      <td>0.020899</td>\n",
       "      <td>0.016312</td>\n",
       "      <td>0.014172</td>\n",
       "    </tr>\n",
       "    <tr>\n",
       "      <th>24</th>\n",
       "      <td>301.71</td>\n",
       "      <td>86.25</td>\n",
       "      <td>31.16</td>\n",
       "      <td>0.009793</td>\n",
       "      <td>305.35</td>\n",
       "      <td>0.309506</td>\n",
       "      <td>0.65</td>\n",
       "      <td>1287.0</td>\n",
       "      <td>0.013943</td>\n",
       "      <td>306.87</td>\n",
       "      <td>50.31</td>\n",
       "      <td>306.31</td>\n",
       "      <td>0.021499</td>\n",
       "      <td>0.016699</td>\n",
       "      <td>0.014599</td>\n",
       "    </tr>\n",
       "    <tr>\n",
       "      <th>25</th>\n",
       "      <td>301.77</td>\n",
       "      <td>72.59</td>\n",
       "      <td>44.56</td>\n",
       "      <td>0.014076</td>\n",
       "      <td>305.74</td>\n",
       "      <td>0.309513</td>\n",
       "      <td>0.20</td>\n",
       "      <td>1287.0</td>\n",
       "      <td>0.004290</td>\n",
       "      <td>305.55</td>\n",
       "      <td>48.44</td>\n",
       "      <td>306.65</td>\n",
       "      <td>0.018060</td>\n",
       "      <td>0.014887</td>\n",
       "      <td>0.014938</td>\n",
       "    </tr>\n",
       "    <tr>\n",
       "      <th>26</th>\n",
       "      <td>302.78</td>\n",
       "      <td>85.64</td>\n",
       "      <td>31.56</td>\n",
       "      <td>0.009864</td>\n",
       "      <td>306.34</td>\n",
       "      <td>0.304905</td>\n",
       "      <td>0.20</td>\n",
       "      <td>1282.0</td>\n",
       "      <td>0.004273</td>\n",
       "      <td>308.21</td>\n",
       "      <td>50.33</td>\n",
       "      <td>308.42</td>\n",
       "      <td>0.022753</td>\n",
       "      <td>0.018035</td>\n",
       "      <td>0.015885</td>\n",
       "    </tr>\n",
       "    <tr>\n",
       "      <th>28</th>\n",
       "      <td>302.14</td>\n",
       "      <td>88.91</td>\n",
       "      <td>19.17</td>\n",
       "      <td>0.006004</td>\n",
       "      <td>306.46</td>\n",
       "      <td>0.303860</td>\n",
       "      <td>0.25</td>\n",
       "      <td>1281.0</td>\n",
       "      <td>0.005338</td>\n",
       "      <td>308.44</td>\n",
       "      <td>48.34</td>\n",
       "      <td>308.99</td>\n",
       "      <td>0.022766</td>\n",
       "      <td>0.017530</td>\n",
       "      <td>0.016091</td>\n",
       "    </tr>\n",
       "    <tr>\n",
       "      <th>31</th>\n",
       "      <td>308.69</td>\n",
       "      <td>20.16</td>\n",
       "      <td>62.51</td>\n",
       "      <td>0.019631</td>\n",
       "      <td>311.41</td>\n",
       "      <td>0.314454</td>\n",
       "      <td>1.34</td>\n",
       "      <td>1291.0</td>\n",
       "      <td>0.028832</td>\n",
       "      <td>306.34</td>\n",
       "      <td>32.53</td>\n",
       "      <td>310.19</td>\n",
       "      <td>0.007294</td>\n",
       "      <td>0.010378</td>\n",
       "      <td>0.020168</td>\n",
       "    </tr>\n",
       "    <tr>\n",
       "      <th>32</th>\n",
       "      <td>306.20</td>\n",
       "      <td>32.67</td>\n",
       "      <td>62.51</td>\n",
       "      <td>0.019696</td>\n",
       "      <td>311.06</td>\n",
       "      <td>0.313041</td>\n",
       "      <td>1.24</td>\n",
       "      <td>1290.0</td>\n",
       "      <td>0.026660</td>\n",
       "      <td>307.20</td>\n",
       "      <td>38.06</td>\n",
       "      <td>308.45</td>\n",
       "      <td>0.010340</td>\n",
       "      <td>0.012789</td>\n",
       "      <td>0.019933</td>\n",
       "    </tr>\n",
       "  </tbody>\n",
       "</table>\n",
       "</div>"
      ],
      "text/plain": [
       "    T_a_in  hr_air_in  V_a_in    m_a_in  T_d_in   xi_d_in  V_d_in  rho_d_in  \\\n",
       "11  300.22      79.59   16.35  0.005191  304.63  0.299788    1.44    1277.0   \n",
       "12  300.80      73.22   16.45  0.005220  304.67  0.299861    0.68    1277.0   \n",
       "17  304.65      12.55   69.81  0.022346  309.03  0.310888    1.31    1288.0   \n",
       "21  301.47      82.73   20.41  0.006431  303.90  0.311371    0.16    1289.0   \n",
       "22  302.13      84.09   31.33  0.009833  304.40  0.311458    0.16    1289.0   \n",
       "23  301.04      87.26   30.88  0.009735  304.84  0.309419    0.37    1287.0   \n",
       "24  301.71      86.25   31.16  0.009793  305.35  0.309506    0.65    1287.0   \n",
       "25  301.77      72.59   44.56  0.014076  305.74  0.309513    0.20    1287.0   \n",
       "26  302.78      85.64   31.56  0.009864  306.34  0.304905    0.20    1282.0   \n",
       "28  302.14      88.91   19.17  0.006004  306.46  0.303860    0.25    1281.0   \n",
       "31  308.69      20.16   62.51  0.019631  311.41  0.314454    1.34    1291.0   \n",
       "32  306.20      32.67   62.51  0.019696  311.06  0.313041    1.24    1290.0   \n",
       "\n",
       "      m_d_in  T_a_o_exp  hr_air_out  T_d_o_exp    x_a_in  x_a_o_exp  \\\n",
       "11  0.030648     304.73       47.42     304.85  0.018089   0.013891   \n",
       "12  0.014473     304.59       47.67     304.97  0.017193   0.013853   \n",
       "17  0.028121     302.62       28.18     307.20  0.003601   0.007240   \n",
       "21  0.003437     306.62       47.75     305.30  0.020298   0.015602   \n",
       "22  0.003437     307.41       49.43     306.09  0.021476   0.016914   \n",
       "23  0.007936     306.48       50.26     306.78  0.020899   0.016312   \n",
       "24  0.013943     306.87       50.31     306.31  0.021499   0.016699   \n",
       "25  0.004290     305.55       48.44     306.65  0.018060   0.014887   \n",
       "26  0.004273     308.21       50.33     308.42  0.022753   0.018035   \n",
       "28  0.005338     308.44       48.34     308.99  0.022766   0.017530   \n",
       "31  0.028832     306.34       32.53     310.19  0.007294   0.010378   \n",
       "32  0.026660     307.20       38.06     308.45  0.010340   0.012789   \n",
       "\n",
       "    x_d_in_equ  \n",
       "11    0.014773  \n",
       "12    0.014802  \n",
       "17    0.017959  \n",
       "21    0.013252  \n",
       "22    0.013645  \n",
       "23    0.014172  \n",
       "24    0.014599  \n",
       "25    0.014938  \n",
       "26    0.015885  \n",
       "28    0.016091  \n",
       "31    0.020168  \n",
       "32    0.019933  "
      ]
     },
     "execution_count": 42,
     "metadata": {},
     "output_type": "execute_result"
    }
   ],
   "source": [
    "df_raw_heat"
   ]
  },
  {
   "cell_type": "code",
   "execution_count": 37,
   "metadata": {},
   "outputs": [
    {
     "data": {
      "text/plain": [
       "<matplotlib.axes._subplots.AxesSubplot at 0x1c37651e288>"
      ]
     },
     "execution_count": 37,
     "metadata": {},
     "output_type": "execute_result"
    },
    {
     "data": {
      "image/png": "[encoded data removed]",
      "text/plain": [
       "<Figure size 432x288 with 1 Axes>"
      ]
     },
     "metadata": {
      "needs_background": "light"
     },
     "output_type": "display_data"
    }
   ],
   "source": [
    "(df_raw.T_a_in - df_raw.T_d_in).plot()"
   ]
  },
  {
   "cell_type": "code",
   "execution_count": null,
   "metadata": {},
   "outputs": [],
   "source": []
  },
  {
   "cell_type": "code",
   "execution_count": 43,
   "metadata": {},
   "outputs": [
    {
     "data": {
      "text/plain": [
       "0.016598107787442144"
      ]
     },
     "execution_count": 43,
     "metadata": {},
     "output_type": "execute_result"
    }
   ],
   "source": [
    "calc_x_des_equ(T_des=311.06, xi_des = 0.313, type_desiccant='LiCl')"
   ]
  },
  {
   "cell_type": "code",
   "execution_count": 44,
   "metadata": {},
   "outputs": [
    {
     "data": {
      "text/plain": [
       "0.019937677174607284"
      ]
     },
     "execution_count": 44,
     "metadata": {},
     "output_type": "execute_result"
    }
   ],
   "source": [
    "calc_x_des_equ(T_des=311.06, xi_des = 0.313, type_desiccant='MgCl2')"
   ]
  },
  {
   "cell_type": "code",
   "execution_count": null,
   "metadata": {},
   "outputs": [],
   "source": []
  },
  {
   "cell_type": "markdown",
   "metadata": {
    "tags": []
   },
   "source": [
    "# **ZHAW**"
   ]
  },
  {
   "cell_type": "code",
   "execution_count": null,
   "metadata": {},
   "outputs": [],
   "source": []
  }
 ],
 "metadata": {
  "kernelspec": {
   "display_name": "Python 3",
   "language": "python",
   "name": "python3"
  },
  "language_info": {
   "codemirror_mode": {
    "name": "ipython",
    "version": 3
   },
   "file_extension": ".py",
   "mimetype": "text/x-python",
   "name": "python",
   "nbconvert_exporter": "python",
   "pygments_lexer": "ipython3",
   "version": "3.8.8"
  }
 },
 "nbformat": 4,
 "nbformat_minor": 4
}
